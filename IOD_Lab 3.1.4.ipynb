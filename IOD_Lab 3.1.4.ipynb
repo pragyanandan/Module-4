{
 "cells": [
  {
   "cell_type": "markdown",
   "metadata": {
    "id": "s8RoBuCkB_bW"
   },
   "source": [
    "<div>\n",
    "<img src=https://www.institutedata.com/wp-content/uploads/2019/10/iod_h_tp_primary_c.svg width=\"300\">\n",
    "</div>"
   ]
  },
  {
   "cell_type": "markdown",
   "metadata": {
    "id": "cW5QEs4PB_bY"
   },
   "source": [
    "# Lab 3.1.4\n",
    "# *Python with MongoDB*"
   ]
  },
  {
   "cell_type": "markdown",
   "metadata": {
    "id": "VjUpP-kFB_bb"
   },
   "source": [
    "## Introduction to PyMongo"
   ]
  },
  {
   "cell_type": "markdown",
   "metadata": {
    "id": "wj_xDQwGKbpL"
   },
   "source": [
    "For this lab you will firstly need to install two programs (both for Windows and Mac users). If using Windows download then run the `msi` package in both cases.\n",
    "\n",
    "1) MongoDB Community Server from https://www.mongodb.com/try/download/community\n",
    "\n",
    "2) MongoDB Command Line Database Tools from https://www.mongodb.com/try/download/database-tools"
   ]
  },
  {
   "cell_type": "markdown",
   "metadata": {},
   "source": [
    "**The following resources may assist Mac users:**\n",
    "\n",
    "[Install MongoDB Community Edition on macOS](https://www.mongodb.com/docs/manual/tutorial/install-mongodb-on-os-x/)\n",
    "\n",
    "[How to Install Latest MongoDB on macOS](https://www.youtube.com/watch?v=NLw7Tln6IeM)\n",
    "\n",
    "[How to install HomeBrew (often this helps, if you are having issues with your setup)](https://www.youtube.com/watch?v=IWJKRmFLn-g)"
   ]
  },
  {
   "cell_type": "code",
   "execution_count": 4,
   "metadata": {},
   "outputs": [],
   "source": [
    "#!pip install pymongo"
   ]
  },
  {
   "cell_type": "code",
   "execution_count": 5,
   "metadata": {
    "colab": {
     "base_uri": "https://localhost:8080/",
     "height": 383
    },
    "executionInfo": {
     "elapsed": 11,
     "status": "error",
     "timestamp": 1710482077396,
     "user": {
      "displayName": "Isabella Uslu",
      "userId": "15471511092561094644"
     },
     "user_tz": -660
    },
    "id": "56Yk9yQtB_bd",
    "outputId": "e8fe2eb1-981e-410b-fd58-93eddc833c78"
   },
   "outputs": [
    {
     "name": "stdout",
     "output_type": "stream",
     "text": [
      "Mongo version 4.7.3\n"
     ]
    }
   ],
   "source": [
    "from IPython.display import display, HTML\n",
    "import pymongo\n",
    "import pandas as pd\n",
    "from pymongo import MongoClient\n",
    "print ('Mongo version ' + pymongo.__version__)"
   ]
  },
  {
   "cell_type": "code",
   "execution_count": 6,
   "metadata": {
    "id": "NiYV2_VIB_bm"
   },
   "outputs": [
    {
     "name": "stdout",
     "output_type": "stream",
     "text": [
      "MongoDB Server Version: 7.0.11\n",
      "Databases: ['Test', 'admin', 'config', 'local']\n"
     ]
    }
   ],
   "source": [
    "# Creating a client object in our local machine\n",
    "\n",
    "# Create a MongoClient to the running MongoDB instance\n",
    "client = MongoClient('localhost', 27017)\n",
    "\n",
    "# Check the MongoDB server version\n",
    "server_info = client.server_info()\n",
    "print(\"MongoDB Server Version:\", server_info['version'])\n",
    "\n",
    "# List all databases\n",
    "databases = client.list_database_names()\n",
    "print(\"Databases:\", databases)"
   ]
  },
  {
   "cell_type": "code",
   "execution_count": 7,
   "metadata": {},
   "outputs": [
    {
     "name": "stdout",
     "output_type": "stream",
     "text": [
      "['Test', 'admin', 'config', 'local']\n"
     ]
    }
   ],
   "source": [
    "print(client.list_database_names())"
   ]
  },
  {
   "cell_type": "markdown",
   "metadata": {},
   "source": [
    "In MongoDB, a **database** stores and manages collections of related data, similar to how you might organise files into folders on your computer."
   ]
  },
  {
   "cell_type": "markdown",
   "metadata": {},
   "source": [
    "Create a new database:"
   ]
  },
  {
   "cell_type": "code",
   "execution_count": 8,
   "metadata": {},
   "outputs": [
    {
     "name": "stdout",
     "output_type": "stream",
     "text": [
      "Databases: ['Test', 'admin', 'config', 'local']\n",
      "Collections in 'Test' database: ['example_collection', 'shoppers']\n"
     ]
    }
   ],
   "source": [
    "db = client[\"Test\"]\n",
    "\n",
    "# Access a collection within the \"Test\" database (it will be created if it doesn't exist)\n",
    "collection = db[\"example_collection\"]\n",
    "\n",
    "# Insert a document into the collection\n",
    "document = {\"name\": \"example\", \"value\": 42}\n",
    "collection.insert_one(document)\n",
    "\n",
    "# Verify that the database and collection have been created\n",
    "databases = client.list_database_names()\n",
    "print(\"Databases:\", databases)\n",
    "\n",
    "collections = db.list_collection_names()\n",
    "print(\"Collections in 'Test' database:\", collections)"
   ]
  },
  {
   "cell_type": "markdown",
   "metadata": {},
   "source": [
    "A **collection** in MongoDB is similar to a table in a relational database.\n",
    "Collections store documents (records) in a structured format (usually in BSON, which is a binary representation of JSON).\n",
    "The people collection likely contains documents related to people, such as user profiles, contact information, or other relevant data.\n",
    "Each document within the people collection represents an individual person or entity."
   ]
  },
  {
   "cell_type": "code",
   "execution_count": 9,
   "metadata": {},
   "outputs": [
    {
     "name": "stdout",
     "output_type": "stream",
     "text": [
      "['Test', 'admin', 'config', 'local']\n"
     ]
    }
   ],
   "source": [
    "print(client.list_database_names())"
   ]
  },
  {
   "cell_type": "markdown",
   "metadata": {},
   "source": [
    "It is important to note that MongoDB is lazy: the db won't get created until data has been written to it!"
   ]
  },
  {
   "cell_type": "markdown",
   "metadata": {
    "id": "HvVFPpgRB_cA"
   },
   "source": [
    "Create a collection called \"shoppers\" (with object name `mycol`):"
   ]
  },
  {
   "cell_type": "code",
   "execution_count": 10,
   "metadata": {},
   "outputs": [
    {
     "name": "stdout",
     "output_type": "stream",
     "text": [
      "Databases: ['Test', 'admin', 'config', 'local']\n",
      "Collections in 'Test' database: ['example_collection', 'shoppers']\n"
     ]
    }
   ],
   "source": [
    "#ANSWER\n",
    "My_Collection = db[\"shoppers\"]\n",
    "\n",
    "# Insert a document into the collection\n",
    "document = {\"name\": \"example\", \"value\": \"New World\"}\n",
    "My_Collection.insert_one(document)\n",
    "\n",
    "# Verify that the database and collection have been created\n",
    "databases = client.list_database_names()\n",
    "print(\"Databases:\", databases)\n",
    "\n",
    "collections = db.list_collection_names()\n",
    "print(\"Collections in 'Test' database:\", collections)"
   ]
  },
  {
   "cell_type": "markdown",
   "metadata": {
    "id": "TRIbsM6VB_cE"
   },
   "source": [
    "Create a document (i.e. a dictionary) with two name:value items\n",
    "(\"name\" = \"Paul\", and \"address\" = \"Mansfield Ave\") and insert\n",
    "it into the \"shoppers\" collection:"
   ]
  },
  {
   "cell_type": "code",
   "execution_count": 11,
   "metadata": {
    "id": "KI1lYOBvB_cF"
   },
   "outputs": [
    {
     "name": "stdout",
     "output_type": "stream",
     "text": [
      "Collections in 'Test' database: ['example_collection', 'shoppers']\n"
     ]
    }
   ],
   "source": [
    "#ANSWER:\n",
    "document = {\"name\": \"Paul\", \"address\": \"Mansfield AVE\"}\n",
    "My_Collection.insert_one(document)\n",
    "collections = db.list_collection_names()\n",
    "print(\"Collections in 'Test' database:\", collections)"
   ]
  },
  {
   "cell_type": "markdown",
   "metadata": {
    "id": "_EEiTjd_B_cH"
   },
   "source": [
    "Now test for the existence of the database:"
   ]
  },
  {
   "cell_type": "code",
   "execution_count": 12,
   "metadata": {
    "id": "JsPz--uIB_cI"
   },
   "outputs": [
    {
     "name": "stdout",
     "output_type": "stream",
     "text": [
      "The 'Test' database exists.\n"
     ]
    }
   ],
   "source": [
    "#ANSWER:\n",
    "# List all databases\n",
    "databases = client.list_database_names()\n",
    "\n",
    "# Check if \"Test\" database exists\n",
    "if \"Test\" in databases:\n",
    "    print(\"The 'Test' database exists.\")\n",
    "else:\n",
    "    print(\"The 'Test' database does not exist.\")"
   ]
  },
  {
   "cell_type": "markdown",
   "metadata": {
    "id": "WvgAowAdB_cK"
   },
   "source": [
    "List all collections in the database:"
   ]
  },
  {
   "cell_type": "code",
   "execution_count": 13,
   "metadata": {
    "id": "JMl-YlPNB_cK"
   },
   "outputs": [
    {
     "name": "stdout",
     "output_type": "stream",
     "text": [
      "Collections in 'Test' database: ['example_collection', 'shoppers']\n"
     ]
    }
   ],
   "source": [
    "#ANSWER\n",
    "collections = db.list_collection_names()\n",
    "print(\"Collections in 'Test' database:\", collections)"
   ]
  },
  {
   "cell_type": "markdown",
   "metadata": {
    "id": "ZBpH0Q9dB_cM"
   },
   "source": [
    "Insert another record in the \"shoppers\" collection\n",
    "(\"name\" = \"Rafa\", \"address\" = \"Holder Drive\")\n",
    "and return the value of the _id field:"
   ]
  },
  {
   "cell_type": "code",
   "execution_count": 14,
   "metadata": {
    "id": "LzSwoIlIB_cN"
   },
   "outputs": [
    {
     "name": "stdout",
     "output_type": "stream",
     "text": [
      "Inserted document _id: 6672584efb1786dc7fd97f58\n"
     ]
    }
   ],
   "source": [
    "new_shopper = {\"name\": \"Rafa\", \"address\": \"Holder Drive\"}\n",
    "insert_result = My_Collection.insert_one(new_shopper)\n",
    "\n",
    "# Return the value of the _id field\n",
    "print(\"Inserted document _id:\", insert_result.inserted_id)"
   ]
  },
  {
   "cell_type": "markdown",
   "metadata": {
    "id": "g81P900vB_cP"
   },
   "source": [
    "Given the list of dicts below, insert multiple documents into\n",
    "the collection using the insert_many() method:"
   ]
  },
  {
   "cell_type": "code",
   "execution_count": 15,
   "metadata": {
    "id": "E7fwTxbcB_cP"
   },
   "outputs": [],
   "source": [
    "mylist = [\n",
    "  { \"name\": \"Bob\", \"address\": \"Axle St\"},\n",
    "  { \"name\": \"Bib2\", \"address\": \"Green Dr\"},\n",
    "  { \"name\": \"Bib3\", \"address\": \"Holly Blvd\"},\n",
    "  { \"name\": \"Bob4\", \"address\": \"Castor Prom\"},\n",
    "  { \"name\": \"Bob5\", \"address\": \"Parsons Way\"},\n",
    "  { \"name\": \"Bib6\", \"address\": \"Watters St\"},\n",
    "  { \"name\": \"Bob7\", \"address\": \"Yonder Dr\"},\n",
    "  { \"name\": \"bob8\", \"address\": \"Garrison St\"},\n",
    "  { \"name\": \"Bob9\", \"address\": \"Station St\"},\n",
    "  { \"name\": \"Bob20\", \"address\": \"Wayman Ave\"}\n",
    "]\n",
    "\n"
   ]
  },
  {
   "cell_type": "code",
   "execution_count": 16,
   "metadata": {
    "id": "g6xDpO86B_cR"
   },
   "outputs": [
    {
     "name": "stdout",
     "output_type": "stream",
     "text": [
      "Inserted document _id values: [ObjectId('6672584efb1786dc7fd97f59'), ObjectId('6672584efb1786dc7fd97f5a'), ObjectId('6672584efb1786dc7fd97f5b'), ObjectId('6672584efb1786dc7fd97f5c'), ObjectId('6672584efb1786dc7fd97f5d'), ObjectId('6672584efb1786dc7fd97f5e'), ObjectId('6672584efb1786dc7fd97f5f'), ObjectId('6672584efb1786dc7fd97f60'), ObjectId('6672584efb1786dc7fd97f61'), ObjectId('6672584efb1786dc7fd97f62')]\n"
     ]
    }
   ],
   "source": [
    "insert_result = My_Collection.insert_many(mylist)\n",
    "\n",
    "# Print the _id values of the inserted documents\n",
    "print(\"Inserted document _id values:\", insert_result.inserted_ids)"
   ]
  },
  {
   "cell_type": "markdown",
   "metadata": {
    "id": "ZmuKgJ5SB_cU"
   },
   "source": [
    "Print a list of the _id values of the inserted documents:"
   ]
  },
  {
   "cell_type": "code",
   "execution_count": 17,
   "metadata": {
    "id": "zLS5mhlIB_cV"
   },
   "outputs": [],
   "source": [
    "### Printed as above"
   ]
  },
  {
   "cell_type": "markdown",
   "metadata": {
    "id": "kC0U_tYqB_cX"
   },
   "source": [
    "Execute the next cell to insert a list of dicts with specified `_id`s:"
   ]
  },
  {
   "cell_type": "code",
   "execution_count": 18,
   "metadata": {
    "id": "RnAv0sMdB_cX"
   },
   "outputs": [
    {
     "ename": "BulkWriteError",
     "evalue": "batch op errors occurred, full error: {'writeErrors': [{'index': 0, 'code': 11000, 'errmsg': 'E11000 duplicate key error collection: Test.shoppers index: _id_ dup key: { _id: 1 }', 'keyPattern': {'_id': 1}, 'keyValue': {'_id': 1}, 'op': {'_id': 1, 'name': 'Paul', 'address': 'Mansfield Ave'}}], 'writeConcernErrors': [], 'nInserted': 0, 'nUpserted': 0, 'nMatched': 0, 'nModified': 0, 'nRemoved': 0, 'upserted': []}",
     "output_type": "error",
     "traceback": [
      "\u001b[0;31m---------------------------------------------------------------------------\u001b[0m",
      "\u001b[0;31mBulkWriteError\u001b[0m                            Traceback (most recent call last)",
      "Cell \u001b[0;32mIn[18], line 15\u001b[0m\n\u001b[1;32m      1\u001b[0m mylist \u001b[38;5;241m=\u001b[39m [\n\u001b[1;32m      2\u001b[0m   { \u001b[38;5;124m\"\u001b[39m\u001b[38;5;124m_id\u001b[39m\u001b[38;5;124m\"\u001b[39m: \u001b[38;5;241m1\u001b[39m, \u001b[38;5;124m\"\u001b[39m\u001b[38;5;124mname\u001b[39m\u001b[38;5;124m\"\u001b[39m: \u001b[38;5;124m\"\u001b[39m\u001b[38;5;124mPaul\u001b[39m\u001b[38;5;124m\"\u001b[39m, \u001b[38;5;124m\"\u001b[39m\u001b[38;5;124maddress\u001b[39m\u001b[38;5;124m\"\u001b[39m: \u001b[38;5;124m\"\u001b[39m\u001b[38;5;124mMansfield Ave\u001b[39m\u001b[38;5;124m\"\u001b[39m},\n\u001b[1;32m      3\u001b[0m   { \u001b[38;5;124m\"\u001b[39m\u001b[38;5;124m_id\u001b[39m\u001b[38;5;124m\"\u001b[39m: \u001b[38;5;241m2\u001b[39m, \u001b[38;5;124m\"\u001b[39m\u001b[38;5;124mname\u001b[39m\u001b[38;5;124m\"\u001b[39m: \u001b[38;5;124m\"\u001b[39m\u001b[38;5;124mRafa\u001b[39m\u001b[38;5;124m\"\u001b[39m, \u001b[38;5;124m\"\u001b[39m\u001b[38;5;124maddress\u001b[39m\u001b[38;5;124m\"\u001b[39m: \u001b[38;5;124m\"\u001b[39m\u001b[38;5;124mHolder Drive\u001b[39m\u001b[38;5;124m\"\u001b[39m},\n\u001b[0;32m   (...)\u001b[0m\n\u001b[1;32m     13\u001b[0m   { \u001b[38;5;124m\"\u001b[39m\u001b[38;5;124m_id\u001b[39m\u001b[38;5;124m\"\u001b[39m: \u001b[38;5;241m12\u001b[39m, \u001b[38;5;124m\"\u001b[39m\u001b[38;5;124mname\u001b[39m\u001b[38;5;124m\"\u001b[39m: \u001b[38;5;124m\"\u001b[39m\u001b[38;5;124mSvetlana\u001b[39m\u001b[38;5;124m\"\u001b[39m, \u001b[38;5;124m\"\u001b[39m\u001b[38;5;124maddress\u001b[39m\u001b[38;5;124m\"\u001b[39m: \u001b[38;5;124m\"\u001b[39m\u001b[38;5;124mWayman Ave\u001b[39m\u001b[38;5;124m\"\u001b[39m}\n\u001b[1;32m     14\u001b[0m ]\n\u001b[0;32m---> 15\u001b[0m x \u001b[38;5;241m=\u001b[39m \u001b[43mMy_Collection\u001b[49m\u001b[38;5;241;43m.\u001b[39;49m\u001b[43minsert_many\u001b[49m\u001b[43m(\u001b[49m\u001b[43mmylist\u001b[49m\u001b[43m)\u001b[49m\n\u001b[1;32m     16\u001b[0m \u001b[38;5;28mprint\u001b[39m(x\u001b[38;5;241m.\u001b[39minserted_ids)\n",
      "File \u001b[0;32m/Library/Frameworks/Python.framework/Versions/3.12/lib/python3.12/site-packages/pymongo/_csot.py:108\u001b[0m, in \u001b[0;36mapply.<locals>.csot_wrapper\u001b[0;34m(self, *args, **kwargs)\u001b[0m\n\u001b[1;32m    106\u001b[0m         \u001b[38;5;28;01mwith\u001b[39;00m _TimeoutContext(timeout):\n\u001b[1;32m    107\u001b[0m             \u001b[38;5;28;01mreturn\u001b[39;00m func(\u001b[38;5;28mself\u001b[39m, \u001b[38;5;241m*\u001b[39margs, \u001b[38;5;241m*\u001b[39m\u001b[38;5;241m*\u001b[39mkwargs)\n\u001b[0;32m--> 108\u001b[0m \u001b[38;5;28;01mreturn\u001b[39;00m \u001b[43mfunc\u001b[49m\u001b[43m(\u001b[49m\u001b[38;5;28;43mself\u001b[39;49m\u001b[43m,\u001b[49m\u001b[43m \u001b[49m\u001b[38;5;241;43m*\u001b[39;49m\u001b[43margs\u001b[49m\u001b[43m,\u001b[49m\u001b[43m \u001b[49m\u001b[38;5;241;43m*\u001b[39;49m\u001b[38;5;241;43m*\u001b[39;49m\u001b[43mkwargs\u001b[49m\u001b[43m)\u001b[49m\n",
      "File \u001b[0;32m/Library/Frameworks/Python.framework/Versions/3.12/lib/python3.12/site-packages/pymongo/collection.py:742\u001b[0m, in \u001b[0;36mCollection.insert_many\u001b[0;34m(self, documents, ordered, bypass_document_validation, session, comment)\u001b[0m\n\u001b[1;32m    740\u001b[0m blk \u001b[38;5;241m=\u001b[39m _Bulk(\u001b[38;5;28mself\u001b[39m, ordered, bypass_document_validation, comment\u001b[38;5;241m=\u001b[39mcomment)\n\u001b[1;32m    741\u001b[0m blk\u001b[38;5;241m.\u001b[39mops \u001b[38;5;241m=\u001b[39m \u001b[38;5;28mlist\u001b[39m(gen())\n\u001b[0;32m--> 742\u001b[0m \u001b[43mblk\u001b[49m\u001b[38;5;241;43m.\u001b[39;49m\u001b[43mexecute\u001b[49m\u001b[43m(\u001b[49m\u001b[43mwrite_concern\u001b[49m\u001b[43m,\u001b[49m\u001b[43m \u001b[49m\u001b[43msession\u001b[49m\u001b[43m,\u001b[49m\u001b[43m \u001b[49m\u001b[43m_Op\u001b[49m\u001b[38;5;241;43m.\u001b[39;49m\u001b[43mINSERT\u001b[49m\u001b[43m)\u001b[49m\n\u001b[1;32m    743\u001b[0m \u001b[38;5;28;01mreturn\u001b[39;00m InsertManyResult(inserted_ids, write_concern\u001b[38;5;241m.\u001b[39macknowledged)\n",
      "File \u001b[0;32m/Library/Frameworks/Python.framework/Versions/3.12/lib/python3.12/site-packages/pymongo/bulk.py:595\u001b[0m, in \u001b[0;36m_Bulk.execute\u001b[0;34m(self, write_concern, session, operation)\u001b[0m\n\u001b[1;32m    593\u001b[0m         \u001b[38;5;28;01mreturn\u001b[39;00m \u001b[38;5;28;01mNone\u001b[39;00m\n\u001b[1;32m    594\u001b[0m \u001b[38;5;28;01melse\u001b[39;00m:\n\u001b[0;32m--> 595\u001b[0m     \u001b[38;5;28;01mreturn\u001b[39;00m \u001b[38;5;28;43mself\u001b[39;49m\u001b[38;5;241;43m.\u001b[39;49m\u001b[43mexecute_command\u001b[49m\u001b[43m(\u001b[49m\u001b[43mgenerator\u001b[49m\u001b[43m,\u001b[49m\u001b[43m \u001b[49m\u001b[43mwrite_concern\u001b[49m\u001b[43m,\u001b[49m\u001b[43m \u001b[49m\u001b[43msession\u001b[49m\u001b[43m,\u001b[49m\u001b[43m \u001b[49m\u001b[43moperation\u001b[49m\u001b[43m)\u001b[49m\n",
      "File \u001b[0;32m/Library/Frameworks/Python.framework/Versions/3.12/lib/python3.12/site-packages/pymongo/bulk.py:462\u001b[0m, in \u001b[0;36m_Bulk.execute_command\u001b[0;34m(self, generator, write_concern, session, operation)\u001b[0m\n\u001b[1;32m    452\u001b[0m client\u001b[38;5;241m.\u001b[39m_retryable_write(\n\u001b[1;32m    453\u001b[0m     \u001b[38;5;28mself\u001b[39m\u001b[38;5;241m.\u001b[39mis_retryable,\n\u001b[1;32m    454\u001b[0m     retryable_bulk,\n\u001b[0;32m   (...)\u001b[0m\n\u001b[1;32m    458\u001b[0m     operation_id\u001b[38;5;241m=\u001b[39mop_id,\n\u001b[1;32m    459\u001b[0m )\n\u001b[1;32m    461\u001b[0m \u001b[38;5;28;01mif\u001b[39;00m full_result[\u001b[38;5;124m\"\u001b[39m\u001b[38;5;124mwriteErrors\u001b[39m\u001b[38;5;124m\"\u001b[39m] \u001b[38;5;129;01mor\u001b[39;00m full_result[\u001b[38;5;124m\"\u001b[39m\u001b[38;5;124mwriteConcernErrors\u001b[39m\u001b[38;5;124m\"\u001b[39m]:\n\u001b[0;32m--> 462\u001b[0m     \u001b[43m_raise_bulk_write_error\u001b[49m\u001b[43m(\u001b[49m\u001b[43mfull_result\u001b[49m\u001b[43m)\u001b[49m\n\u001b[1;32m    463\u001b[0m \u001b[38;5;28;01mreturn\u001b[39;00m full_result\n",
      "File \u001b[0;32m/Library/Frameworks/Python.framework/Versions/3.12/lib/python3.12/site-packages/pymongo/bulk.py:165\u001b[0m, in \u001b[0;36m_raise_bulk_write_error\u001b[0;34m(full_result)\u001b[0m\n\u001b[1;32m    159\u001b[0m         errmsg \u001b[38;5;241m=\u001b[39m (\n\u001b[1;32m    160\u001b[0m             \u001b[38;5;124m\"\u001b[39m\u001b[38;5;124mThis MongoDB deployment does not support \u001b[39m\u001b[38;5;124m\"\u001b[39m\n\u001b[1;32m    161\u001b[0m             \u001b[38;5;124m\"\u001b[39m\u001b[38;5;124mretryable writes. Please add retryWrites=false \u001b[39m\u001b[38;5;124m\"\u001b[39m\n\u001b[1;32m    162\u001b[0m             \u001b[38;5;124m\"\u001b[39m\u001b[38;5;124mto your connection string.\u001b[39m\u001b[38;5;124m\"\u001b[39m\n\u001b[1;32m    163\u001b[0m         )\n\u001b[1;32m    164\u001b[0m         \u001b[38;5;28;01mraise\u001b[39;00m OperationFailure(errmsg, code, full_result)\n\u001b[0;32m--> 165\u001b[0m \u001b[38;5;28;01mraise\u001b[39;00m BulkWriteError(full_result)\n",
      "\u001b[0;31mBulkWriteError\u001b[0m: batch op errors occurred, full error: {'writeErrors': [{'index': 0, 'code': 11000, 'errmsg': 'E11000 duplicate key error collection: Test.shoppers index: _id_ dup key: { _id: 1 }', 'keyPattern': {'_id': 1}, 'keyValue': {'_id': 1}, 'op': {'_id': 1, 'name': 'Paul', 'address': 'Mansfield Ave'}}], 'writeConcernErrors': [], 'nInserted': 0, 'nUpserted': 0, 'nMatched': 0, 'nModified': 0, 'nRemoved': 0, 'upserted': []}"
     ]
    }
   ],
   "source": [
    "mylist = [\n",
    "  { \"_id\": 1, \"name\": \"Paul\", \"address\": \"Mansfield Ave\"},\n",
    "  { \"_id\": 2, \"name\": \"Rafa\", \"address\": \"Holder Drive\"},\n",
    "  { \"_id\": 3, \"name\": \"Ashton\", \"address\": \"Axle St\"},\n",
    "  { \"_id\": 4, \"name\": \"Benjamin\", \"address\": \"Green Dr\"},\n",
    "  { \"_id\": 5, \"name\": \"Sally\", \"address\": \"Holly Blvd\"},\n",
    "  { \"_id\": 6, \"name\": \"Helen\", \"address\": \"Castor Prom\"},\n",
    "  { \"_id\": 7, \"name\": \"Craig\", \"address\": \"Parsons Way\"},\n",
    "  { \"_id\": 8, \"name\": \"Betty\", \"address\": \"Watters St\"},\n",
    "  { \"_id\": 9, \"name\": \"Aparna\", \"address\": \"Yonder Dr\"},\n",
    "  { \"_id\": 10, \"name\": \"Kent\", \"address\": \"Garrison St\"},\n",
    "  { \"_id\": 11, \"name\": \"Violet\", \"address\": \"Station St\"},\n",
    "  { \"_id\": 12, \"name\": \"Svetlana\", \"address\": \"Wayman Ave\"}\n",
    "]\n",
    "x = My_Collection.insert_many(mylist)\n",
    "print(x.inserted_ids)"
   ]
  },
  {
   "cell_type": "markdown",
   "metadata": {
    "id": "vVPR7vhNB_cZ"
   },
   "source": [
    "Now try inserting a new dict with an existing `_id`:"
   ]
  },
  {
   "cell_type": "code",
   "execution_count": null,
   "metadata": {
    "id": "Gklp0IIIB_ca"
   },
   "outputs": [
    {
     "ename": "DuplicateKeyError",
     "evalue": "E11000 duplicate key error collection: Test.shoppers index: _id_ dup key: { _id: 12 }, full error: {'index': 0, 'code': 11000, 'errmsg': 'E11000 duplicate key error collection: Test.shoppers index: _id_ dup key: { _id: 12 }', 'keyPattern': {'_id': 1}, 'keyValue': {'_id': 12}}",
     "output_type": "error",
     "traceback": [
      "\u001b[0;31m---------------------------------------------------------------------------\u001b[0m",
      "\u001b[0;31mDuplicateKeyError\u001b[0m                         Traceback (most recent call last)",
      "Cell \u001b[0;32mIn[27], line 2\u001b[0m\n\u001b[1;32m      1\u001b[0m \u001b[38;5;66;03m# Warning -- This code will return an error as id no: 12 is already exists\u001b[39;00m\n\u001b[0;32m----> 2\u001b[0m x \u001b[38;5;241m=\u001b[39m \u001b[43mMy_Collection\u001b[49m\u001b[38;5;241;43m.\u001b[39;49m\u001b[43minsert_one\u001b[49m\u001b[43m(\u001b[49m\u001b[43m{\u001b[49m\u001b[43m \u001b[49m\u001b[38;5;124;43m\"\u001b[39;49m\u001b[38;5;124;43m_id\u001b[39;49m\u001b[38;5;124;43m\"\u001b[39;49m\u001b[43m:\u001b[49m\u001b[43m \u001b[49m\u001b[38;5;241;43m12\u001b[39;49m\u001b[43m,\u001b[49m\u001b[43m \u001b[49m\u001b[38;5;124;43m\"\u001b[39;49m\u001b[38;5;124;43mname\u001b[39;49m\u001b[38;5;124;43m\"\u001b[39;49m\u001b[43m:\u001b[49m\u001b[43m \u001b[49m\u001b[38;5;124;43m\"\u001b[39;49m\u001b[38;5;124;43mLola\u001b[39;49m\u001b[38;5;124;43m\"\u001b[39;49m\u001b[43m,\u001b[49m\u001b[43m \u001b[49m\u001b[38;5;124;43m\"\u001b[39;49m\u001b[38;5;124;43maddress\u001b[39;49m\u001b[38;5;124;43m\"\u001b[39;49m\u001b[43m:\u001b[49m\u001b[43m \u001b[49m\u001b[38;5;124;43m\"\u001b[39;49m\u001b[38;5;124;43mProspect Dr\u001b[39;49m\u001b[38;5;124;43m\"\u001b[39;49m\u001b[43m}\u001b[49m\u001b[43m)\u001b[49m\n",
      "File \u001b[0;32m/Library/Frameworks/Python.framework/Versions/3.12/lib/python3.12/site-packages/pymongo/collection.py:658\u001b[0m, in \u001b[0;36mCollection.insert_one\u001b[0;34m(self, document, bypass_document_validation, session, comment)\u001b[0m\n\u001b[1;32m    654\u001b[0m     document[\u001b[38;5;124m\"\u001b[39m\u001b[38;5;124m_id\u001b[39m\u001b[38;5;124m\"\u001b[39m] \u001b[38;5;241m=\u001b[39m ObjectId()  \u001b[38;5;66;03m# type: ignore[index]\u001b[39;00m\n\u001b[1;32m    656\u001b[0m write_concern \u001b[38;5;241m=\u001b[39m \u001b[38;5;28mself\u001b[39m\u001b[38;5;241m.\u001b[39m_write_concern_for(session)\n\u001b[1;32m    657\u001b[0m \u001b[38;5;28;01mreturn\u001b[39;00m InsertOneResult(\n\u001b[0;32m--> 658\u001b[0m     \u001b[38;5;28;43mself\u001b[39;49m\u001b[38;5;241;43m.\u001b[39;49m\u001b[43m_insert_one\u001b[49m\u001b[43m(\u001b[49m\n\u001b[1;32m    659\u001b[0m \u001b[43m        \u001b[49m\u001b[43mdocument\u001b[49m\u001b[43m,\u001b[49m\n\u001b[1;32m    660\u001b[0m \u001b[43m        \u001b[49m\u001b[43mordered\u001b[49m\u001b[38;5;241;43m=\u001b[39;49m\u001b[38;5;28;43;01mTrue\u001b[39;49;00m\u001b[43m,\u001b[49m\n\u001b[1;32m    661\u001b[0m \u001b[43m        \u001b[49m\u001b[43mwrite_concern\u001b[49m\u001b[38;5;241;43m=\u001b[39;49m\u001b[43mwrite_concern\u001b[49m\u001b[43m,\u001b[49m\n\u001b[1;32m    662\u001b[0m \u001b[43m        \u001b[49m\u001b[43mop_id\u001b[49m\u001b[38;5;241;43m=\u001b[39;49m\u001b[38;5;28;43;01mNone\u001b[39;49;00m\u001b[43m,\u001b[49m\n\u001b[1;32m    663\u001b[0m \u001b[43m        \u001b[49m\u001b[43mbypass_doc_val\u001b[49m\u001b[38;5;241;43m=\u001b[39;49m\u001b[43mbypass_document_validation\u001b[49m\u001b[43m,\u001b[49m\n\u001b[1;32m    664\u001b[0m \u001b[43m        \u001b[49m\u001b[43msession\u001b[49m\u001b[38;5;241;43m=\u001b[39;49m\u001b[43msession\u001b[49m\u001b[43m,\u001b[49m\n\u001b[1;32m    665\u001b[0m \u001b[43m        \u001b[49m\u001b[43mcomment\u001b[49m\u001b[38;5;241;43m=\u001b[39;49m\u001b[43mcomment\u001b[49m\u001b[43m,\u001b[49m\n\u001b[1;32m    666\u001b[0m \u001b[43m    \u001b[49m\u001b[43m)\u001b[49m,\n\u001b[1;32m    667\u001b[0m     write_concern\u001b[38;5;241m.\u001b[39macknowledged,\n\u001b[1;32m    668\u001b[0m )\n",
      "File \u001b[0;32m/Library/Frameworks/Python.framework/Versions/3.12/lib/python3.12/site-packages/pymongo/collection.py:598\u001b[0m, in \u001b[0;36mCollection._insert_one\u001b[0;34m(self, doc, ordered, write_concern, op_id, bypass_doc_val, session, comment)\u001b[0m\n\u001b[1;32m    586\u001b[0m     result \u001b[38;5;241m=\u001b[39m conn\u001b[38;5;241m.\u001b[39mcommand(\n\u001b[1;32m    587\u001b[0m         \u001b[38;5;28mself\u001b[39m\u001b[38;5;241m.\u001b[39m__database\u001b[38;5;241m.\u001b[39mname,\n\u001b[1;32m    588\u001b[0m         command,\n\u001b[0;32m   (...)\u001b[0m\n\u001b[1;32m    593\u001b[0m         retryable_write\u001b[38;5;241m=\u001b[39mretryable_write,\n\u001b[1;32m    594\u001b[0m     )\n\u001b[1;32m    596\u001b[0m     _check_write_command_response(result)\n\u001b[0;32m--> 598\u001b[0m \u001b[38;5;28;43mself\u001b[39;49m\u001b[38;5;241;43m.\u001b[39;49m\u001b[43m__database\u001b[49m\u001b[38;5;241;43m.\u001b[39;49m\u001b[43mclient\u001b[49m\u001b[38;5;241;43m.\u001b[39;49m\u001b[43m_retryable_write\u001b[49m\u001b[43m(\u001b[49m\n\u001b[1;32m    599\u001b[0m \u001b[43m    \u001b[49m\u001b[43macknowledged\u001b[49m\u001b[43m,\u001b[49m\u001b[43m \u001b[49m\u001b[43m_insert_command\u001b[49m\u001b[43m,\u001b[49m\u001b[43m \u001b[49m\u001b[43msession\u001b[49m\u001b[43m,\u001b[49m\u001b[43m \u001b[49m\u001b[43moperation\u001b[49m\u001b[38;5;241;43m=\u001b[39;49m\u001b[43m_Op\u001b[49m\u001b[38;5;241;43m.\u001b[39;49m\u001b[43mINSERT\u001b[49m\n\u001b[1;32m    600\u001b[0m \u001b[43m\u001b[49m\u001b[43m)\u001b[49m\n\u001b[1;32m    602\u001b[0m \u001b[38;5;28;01mif\u001b[39;00m \u001b[38;5;129;01mnot\u001b[39;00m \u001b[38;5;28misinstance\u001b[39m(doc, RawBSONDocument):\n\u001b[1;32m    603\u001b[0m     \u001b[38;5;28;01mreturn\u001b[39;00m doc\u001b[38;5;241m.\u001b[39mget(\u001b[38;5;124m\"\u001b[39m\u001b[38;5;124m_id\u001b[39m\u001b[38;5;124m\"\u001b[39m)\n",
      "File \u001b[0;32m/Library/Frameworks/Python.framework/Versions/3.12/lib/python3.12/site-packages/pymongo/mongo_client.py:1569\u001b[0m, in \u001b[0;36mMongoClient._retryable_write\u001b[0;34m(self, retryable, func, session, operation, bulk, operation_id)\u001b[0m\n\u001b[1;32m   1555\u001b[0m \u001b[38;5;250m\u001b[39m\u001b[38;5;124;03m\"\"\"Execute an operation with consecutive retries if possible\u001b[39;00m\n\u001b[1;32m   1556\u001b[0m \n\u001b[1;32m   1557\u001b[0m \u001b[38;5;124;03mReturns func()'s return value on success. On error retries the same\u001b[39;00m\n\u001b[0;32m   (...)\u001b[0m\n\u001b[1;32m   1566\u001b[0m \u001b[38;5;124;03m:param bulk: bulk abstraction to execute operations in bulk, defaults to None\u001b[39;00m\n\u001b[1;32m   1567\u001b[0m \u001b[38;5;124;03m\"\"\"\u001b[39;00m\n\u001b[1;32m   1568\u001b[0m \u001b[38;5;28;01mwith\u001b[39;00m \u001b[38;5;28mself\u001b[39m\u001b[38;5;241m.\u001b[39m_tmp_session(session) \u001b[38;5;28;01mas\u001b[39;00m s:\n\u001b[0;32m-> 1569\u001b[0m     \u001b[38;5;28;01mreturn\u001b[39;00m \u001b[38;5;28;43mself\u001b[39;49m\u001b[38;5;241;43m.\u001b[39;49m\u001b[43m_retry_with_session\u001b[49m\u001b[43m(\u001b[49m\u001b[43mretryable\u001b[49m\u001b[43m,\u001b[49m\u001b[43m \u001b[49m\u001b[43mfunc\u001b[49m\u001b[43m,\u001b[49m\u001b[43m \u001b[49m\u001b[43ms\u001b[49m\u001b[43m,\u001b[49m\u001b[43m \u001b[49m\u001b[43mbulk\u001b[49m\u001b[43m,\u001b[49m\u001b[43m \u001b[49m\u001b[43moperation\u001b[49m\u001b[43m,\u001b[49m\u001b[43m \u001b[49m\u001b[43moperation_id\u001b[49m\u001b[43m)\u001b[49m\n",
      "File \u001b[0;32m/Library/Frameworks/Python.framework/Versions/3.12/lib/python3.12/site-packages/pymongo/mongo_client.py:1455\u001b[0m, in \u001b[0;36mMongoClient._retry_with_session\u001b[0;34m(self, retryable, func, session, bulk, operation, operation_id)\u001b[0m\n\u001b[1;32m   1450\u001b[0m \u001b[38;5;66;03m# Ensure that the options supports retry_writes and there is a valid session not in\u001b[39;00m\n\u001b[1;32m   1451\u001b[0m \u001b[38;5;66;03m# transaction, otherwise, we will not support retry behavior for this txn.\u001b[39;00m\n\u001b[1;32m   1452\u001b[0m retryable \u001b[38;5;241m=\u001b[39m \u001b[38;5;28mbool\u001b[39m(\n\u001b[1;32m   1453\u001b[0m     retryable \u001b[38;5;129;01mand\u001b[39;00m \u001b[38;5;28mself\u001b[39m\u001b[38;5;241m.\u001b[39moptions\u001b[38;5;241m.\u001b[39mretry_writes \u001b[38;5;129;01mand\u001b[39;00m session \u001b[38;5;129;01mand\u001b[39;00m \u001b[38;5;129;01mnot\u001b[39;00m session\u001b[38;5;241m.\u001b[39min_transaction\n\u001b[1;32m   1454\u001b[0m )\n\u001b[0;32m-> 1455\u001b[0m \u001b[38;5;28;01mreturn\u001b[39;00m \u001b[38;5;28;43mself\u001b[39;49m\u001b[38;5;241;43m.\u001b[39;49m\u001b[43m_retry_internal\u001b[49m\u001b[43m(\u001b[49m\n\u001b[1;32m   1456\u001b[0m \u001b[43m    \u001b[49m\u001b[43mfunc\u001b[49m\u001b[38;5;241;43m=\u001b[39;49m\u001b[43mfunc\u001b[49m\u001b[43m,\u001b[49m\n\u001b[1;32m   1457\u001b[0m \u001b[43m    \u001b[49m\u001b[43msession\u001b[49m\u001b[38;5;241;43m=\u001b[39;49m\u001b[43msession\u001b[49m\u001b[43m,\u001b[49m\n\u001b[1;32m   1458\u001b[0m \u001b[43m    \u001b[49m\u001b[43mbulk\u001b[49m\u001b[38;5;241;43m=\u001b[39;49m\u001b[43mbulk\u001b[49m\u001b[43m,\u001b[49m\n\u001b[1;32m   1459\u001b[0m \u001b[43m    \u001b[49m\u001b[43moperation\u001b[49m\u001b[38;5;241;43m=\u001b[39;49m\u001b[43moperation\u001b[49m\u001b[43m,\u001b[49m\n\u001b[1;32m   1460\u001b[0m \u001b[43m    \u001b[49m\u001b[43mretryable\u001b[49m\u001b[38;5;241;43m=\u001b[39;49m\u001b[43mretryable\u001b[49m\u001b[43m,\u001b[49m\n\u001b[1;32m   1461\u001b[0m \u001b[43m    \u001b[49m\u001b[43moperation_id\u001b[49m\u001b[38;5;241;43m=\u001b[39;49m\u001b[43moperation_id\u001b[49m\u001b[43m,\u001b[49m\n\u001b[1;32m   1462\u001b[0m \u001b[43m\u001b[49m\u001b[43m)\u001b[49m\n",
      "File \u001b[0;32m/Library/Frameworks/Python.framework/Versions/3.12/lib/python3.12/site-packages/pymongo/_csot.py:108\u001b[0m, in \u001b[0;36mapply.<locals>.csot_wrapper\u001b[0;34m(self, *args, **kwargs)\u001b[0m\n\u001b[1;32m    106\u001b[0m         \u001b[38;5;28;01mwith\u001b[39;00m _TimeoutContext(timeout):\n\u001b[1;32m    107\u001b[0m             \u001b[38;5;28;01mreturn\u001b[39;00m func(\u001b[38;5;28mself\u001b[39m, \u001b[38;5;241m*\u001b[39margs, \u001b[38;5;241m*\u001b[39m\u001b[38;5;241m*\u001b[39mkwargs)\n\u001b[0;32m--> 108\u001b[0m \u001b[38;5;28;01mreturn\u001b[39;00m \u001b[43mfunc\u001b[49m\u001b[43m(\u001b[49m\u001b[38;5;28;43mself\u001b[39;49m\u001b[43m,\u001b[49m\u001b[43m \u001b[49m\u001b[38;5;241;43m*\u001b[39;49m\u001b[43margs\u001b[49m\u001b[43m,\u001b[49m\u001b[43m \u001b[49m\u001b[38;5;241;43m*\u001b[39;49m\u001b[38;5;241;43m*\u001b[39;49m\u001b[43mkwargs\u001b[49m\u001b[43m)\u001b[49m\n",
      "File \u001b[0;32m/Library/Frameworks/Python.framework/Versions/3.12/lib/python3.12/site-packages/pymongo/mongo_client.py:1501\u001b[0m, in \u001b[0;36mMongoClient._retry_internal\u001b[0;34m(self, func, session, bulk, operation, is_read, address, read_pref, retryable, operation_id)\u001b[0m\n\u001b[1;32m   1464\u001b[0m \u001b[38;5;129m@_csot\u001b[39m\u001b[38;5;241m.\u001b[39mapply\n\u001b[1;32m   1465\u001b[0m \u001b[38;5;28;01mdef\u001b[39;00m \u001b[38;5;21m_retry_internal\u001b[39m(\n\u001b[1;32m   1466\u001b[0m     \u001b[38;5;28mself\u001b[39m,\n\u001b[0;32m   (...)\u001b[0m\n\u001b[1;32m   1475\u001b[0m     operation_id: Optional[\u001b[38;5;28mint\u001b[39m] \u001b[38;5;241m=\u001b[39m \u001b[38;5;28;01mNone\u001b[39;00m,\n\u001b[1;32m   1476\u001b[0m ) \u001b[38;5;241m-\u001b[39m\u001b[38;5;241m>\u001b[39m T:\n\u001b[1;32m   1477\u001b[0m \u001b[38;5;250m    \u001b[39m\u001b[38;5;124;03m\"\"\"Internal retryable helper for all client transactions.\u001b[39;00m\n\u001b[1;32m   1478\u001b[0m \n\u001b[1;32m   1479\u001b[0m \u001b[38;5;124;03m    :param func: Callback function we want to retry\u001b[39;00m\n\u001b[0;32m   (...)\u001b[0m\n\u001b[1;32m   1488\u001b[0m \u001b[38;5;124;03m    :return: Output of the calling func()\u001b[39;00m\n\u001b[1;32m   1489\u001b[0m \u001b[38;5;124;03m    \"\"\"\u001b[39;00m\n\u001b[1;32m   1490\u001b[0m     \u001b[38;5;28;01mreturn\u001b[39;00m \u001b[43m_ClientConnectionRetryable\u001b[49m\u001b[43m(\u001b[49m\n\u001b[1;32m   1491\u001b[0m \u001b[43m        \u001b[49m\u001b[43mmongo_client\u001b[49m\u001b[38;5;241;43m=\u001b[39;49m\u001b[38;5;28;43mself\u001b[39;49m\u001b[43m,\u001b[49m\n\u001b[1;32m   1492\u001b[0m \u001b[43m        \u001b[49m\u001b[43mfunc\u001b[49m\u001b[38;5;241;43m=\u001b[39;49m\u001b[43mfunc\u001b[49m\u001b[43m,\u001b[49m\n\u001b[1;32m   1493\u001b[0m \u001b[43m        \u001b[49m\u001b[43mbulk\u001b[49m\u001b[38;5;241;43m=\u001b[39;49m\u001b[43mbulk\u001b[49m\u001b[43m,\u001b[49m\n\u001b[1;32m   1494\u001b[0m \u001b[43m        \u001b[49m\u001b[43moperation\u001b[49m\u001b[38;5;241;43m=\u001b[39;49m\u001b[43moperation\u001b[49m\u001b[43m,\u001b[49m\n\u001b[1;32m   1495\u001b[0m \u001b[43m        \u001b[49m\u001b[43mis_read\u001b[49m\u001b[38;5;241;43m=\u001b[39;49m\u001b[43mis_read\u001b[49m\u001b[43m,\u001b[49m\n\u001b[1;32m   1496\u001b[0m \u001b[43m        \u001b[49m\u001b[43msession\u001b[49m\u001b[38;5;241;43m=\u001b[39;49m\u001b[43msession\u001b[49m\u001b[43m,\u001b[49m\n\u001b[1;32m   1497\u001b[0m \u001b[43m        \u001b[49m\u001b[43mread_pref\u001b[49m\u001b[38;5;241;43m=\u001b[39;49m\u001b[43mread_pref\u001b[49m\u001b[43m,\u001b[49m\n\u001b[1;32m   1498\u001b[0m \u001b[43m        \u001b[49m\u001b[43maddress\u001b[49m\u001b[38;5;241;43m=\u001b[39;49m\u001b[43maddress\u001b[49m\u001b[43m,\u001b[49m\n\u001b[1;32m   1499\u001b[0m \u001b[43m        \u001b[49m\u001b[43mretryable\u001b[49m\u001b[38;5;241;43m=\u001b[39;49m\u001b[43mretryable\u001b[49m\u001b[43m,\u001b[49m\n\u001b[1;32m   1500\u001b[0m \u001b[43m        \u001b[49m\u001b[43moperation_id\u001b[49m\u001b[38;5;241;43m=\u001b[39;49m\u001b[43moperation_id\u001b[49m\u001b[43m,\u001b[49m\n\u001b[0;32m-> 1501\u001b[0m \u001b[43m    \u001b[49m\u001b[43m)\u001b[49m\u001b[38;5;241;43m.\u001b[39;49m\u001b[43mrun\u001b[49m\u001b[43m(\u001b[49m\u001b[43m)\u001b[49m\n",
      "File \u001b[0;32m/Library/Frameworks/Python.framework/Versions/3.12/lib/python3.12/site-packages/pymongo/mongo_client.py:2347\u001b[0m, in \u001b[0;36m_ClientConnectionRetryable.run\u001b[0;34m(self)\u001b[0m\n\u001b[1;32m   2345\u001b[0m \u001b[38;5;28mself\u001b[39m\u001b[38;5;241m.\u001b[39m_check_last_error(check_csot\u001b[38;5;241m=\u001b[39m\u001b[38;5;28;01mTrue\u001b[39;00m)\n\u001b[1;32m   2346\u001b[0m \u001b[38;5;28;01mtry\u001b[39;00m:\n\u001b[0;32m-> 2347\u001b[0m     \u001b[38;5;28;01mreturn\u001b[39;00m \u001b[38;5;28mself\u001b[39m\u001b[38;5;241m.\u001b[39m_read() \u001b[38;5;28;01mif\u001b[39;00m \u001b[38;5;28mself\u001b[39m\u001b[38;5;241m.\u001b[39m_is_read \u001b[38;5;28;01melse\u001b[39;00m \u001b[38;5;28;43mself\u001b[39;49m\u001b[38;5;241;43m.\u001b[39;49m\u001b[43m_write\u001b[49m\u001b[43m(\u001b[49m\u001b[43m)\u001b[49m\n\u001b[1;32m   2348\u001b[0m \u001b[38;5;28;01mexcept\u001b[39;00m ServerSelectionTimeoutError:\n\u001b[1;32m   2349\u001b[0m     \u001b[38;5;66;03m# The application may think the write was never attempted\u001b[39;00m\n\u001b[1;32m   2350\u001b[0m     \u001b[38;5;66;03m# if we raise ServerSelectionTimeoutError on the retry\u001b[39;00m\n\u001b[1;32m   2351\u001b[0m     \u001b[38;5;66;03m# attempt. Raise the original exception instead.\u001b[39;00m\n\u001b[1;32m   2352\u001b[0m     \u001b[38;5;28mself\u001b[39m\u001b[38;5;241m.\u001b[39m_check_last_error()\n",
      "File \u001b[0;32m/Library/Frameworks/Python.framework/Versions/3.12/lib/python3.12/site-packages/pymongo/mongo_client.py:2464\u001b[0m, in \u001b[0;36m_ClientConnectionRetryable._write\u001b[0;34m(self)\u001b[0m\n\u001b[1;32m   2462\u001b[0m             \u001b[38;5;28mself\u001b[39m\u001b[38;5;241m.\u001b[39m_check_last_error()\n\u001b[1;32m   2463\u001b[0m             \u001b[38;5;28mself\u001b[39m\u001b[38;5;241m.\u001b[39m_retryable \u001b[38;5;241m=\u001b[39m \u001b[38;5;28;01mFalse\u001b[39;00m\n\u001b[0;32m-> 2464\u001b[0m         \u001b[38;5;28;01mreturn\u001b[39;00m \u001b[38;5;28;43mself\u001b[39;49m\u001b[38;5;241;43m.\u001b[39;49m\u001b[43m_func\u001b[49m\u001b[43m(\u001b[49m\u001b[38;5;28;43mself\u001b[39;49m\u001b[38;5;241;43m.\u001b[39;49m\u001b[43m_session\u001b[49m\u001b[43m,\u001b[49m\u001b[43m \u001b[49m\u001b[43mconn\u001b[49m\u001b[43m,\u001b[49m\u001b[43m \u001b[49m\u001b[38;5;28;43mself\u001b[39;49m\u001b[38;5;241;43m.\u001b[39;49m\u001b[43m_retryable\u001b[49m\u001b[43m)\u001b[49m  \u001b[38;5;66;03m# type: ignore\u001b[39;00m\n\u001b[1;32m   2465\u001b[0m \u001b[38;5;28;01mexcept\u001b[39;00m PyMongoError \u001b[38;5;28;01mas\u001b[39;00m exc:\n\u001b[1;32m   2466\u001b[0m     \u001b[38;5;28;01mif\u001b[39;00m \u001b[38;5;129;01mnot\u001b[39;00m \u001b[38;5;28mself\u001b[39m\u001b[38;5;241m.\u001b[39m_retryable:\n",
      "File \u001b[0;32m/Library/Frameworks/Python.framework/Versions/3.12/lib/python3.12/site-packages/pymongo/collection.py:596\u001b[0m, in \u001b[0;36mCollection._insert_one.<locals>._insert_command\u001b[0;34m(session, conn, retryable_write)\u001b[0m\n\u001b[1;32m    584\u001b[0m     command[\u001b[38;5;124m\"\u001b[39m\u001b[38;5;124mbypassDocumentValidation\u001b[39m\u001b[38;5;124m\"\u001b[39m] \u001b[38;5;241m=\u001b[39m \u001b[38;5;28;01mTrue\u001b[39;00m\n\u001b[1;32m    586\u001b[0m result \u001b[38;5;241m=\u001b[39m conn\u001b[38;5;241m.\u001b[39mcommand(\n\u001b[1;32m    587\u001b[0m     \u001b[38;5;28mself\u001b[39m\u001b[38;5;241m.\u001b[39m__database\u001b[38;5;241m.\u001b[39mname,\n\u001b[1;32m    588\u001b[0m     command,\n\u001b[0;32m   (...)\u001b[0m\n\u001b[1;32m    593\u001b[0m     retryable_write\u001b[38;5;241m=\u001b[39mretryable_write,\n\u001b[1;32m    594\u001b[0m )\n\u001b[0;32m--> 596\u001b[0m \u001b[43m_check_write_command_response\u001b[49m\u001b[43m(\u001b[49m\u001b[43mresult\u001b[49m\u001b[43m)\u001b[49m\n",
      "File \u001b[0;32m/Library/Frameworks/Python.framework/Versions/3.12/lib/python3.12/site-packages/pymongo/helpers.py:286\u001b[0m, in \u001b[0;36m_check_write_command_response\u001b[0;34m(result)\u001b[0m\n\u001b[1;32m    284\u001b[0m write_errors \u001b[38;5;241m=\u001b[39m result\u001b[38;5;241m.\u001b[39mget(\u001b[38;5;124m\"\u001b[39m\u001b[38;5;124mwriteErrors\u001b[39m\u001b[38;5;124m\"\u001b[39m)\n\u001b[1;32m    285\u001b[0m \u001b[38;5;28;01mif\u001b[39;00m write_errors:\n\u001b[0;32m--> 286\u001b[0m     \u001b[43m_raise_last_write_error\u001b[49m\u001b[43m(\u001b[49m\u001b[43mwrite_errors\u001b[49m\u001b[43m)\u001b[49m\n\u001b[1;32m    288\u001b[0m wce \u001b[38;5;241m=\u001b[39m _get_wce_doc(result)\n\u001b[1;32m    289\u001b[0m \u001b[38;5;28;01mif\u001b[39;00m wce:\n",
      "File \u001b[0;32m/Library/Frameworks/Python.framework/Versions/3.12/lib/python3.12/site-packages/pymongo/helpers.py:256\u001b[0m, in \u001b[0;36m_raise_last_write_error\u001b[0;34m(write_errors)\u001b[0m\n\u001b[1;32m    254\u001b[0m error \u001b[38;5;241m=\u001b[39m write_errors[\u001b[38;5;241m-\u001b[39m\u001b[38;5;241m1\u001b[39m]\n\u001b[1;32m    255\u001b[0m \u001b[38;5;28;01mif\u001b[39;00m error\u001b[38;5;241m.\u001b[39mget(\u001b[38;5;124m\"\u001b[39m\u001b[38;5;124mcode\u001b[39m\u001b[38;5;124m\"\u001b[39m) \u001b[38;5;241m==\u001b[39m \u001b[38;5;241m11000\u001b[39m:\n\u001b[0;32m--> 256\u001b[0m     \u001b[38;5;28;01mraise\u001b[39;00m DuplicateKeyError(error\u001b[38;5;241m.\u001b[39mget(\u001b[38;5;124m\"\u001b[39m\u001b[38;5;124merrmsg\u001b[39m\u001b[38;5;124m\"\u001b[39m), \u001b[38;5;241m11000\u001b[39m, error)\n\u001b[1;32m    257\u001b[0m \u001b[38;5;28;01mraise\u001b[39;00m WriteError(error\u001b[38;5;241m.\u001b[39mget(\u001b[38;5;124m\"\u001b[39m\u001b[38;5;124merrmsg\u001b[39m\u001b[38;5;124m\"\u001b[39m), error\u001b[38;5;241m.\u001b[39mget(\u001b[38;5;124m\"\u001b[39m\u001b[38;5;124mcode\u001b[39m\u001b[38;5;124m\"\u001b[39m), error)\n",
      "\u001b[0;31mDuplicateKeyError\u001b[0m: E11000 duplicate key error collection: Test.shoppers index: _id_ dup key: { _id: 12 }, full error: {'index': 0, 'code': 11000, 'errmsg': 'E11000 duplicate key error collection: Test.shoppers index: _id_ dup key: { _id: 12 }', 'keyPattern': {'_id': 1}, 'keyValue': {'_id': 12}}"
     ]
    }
   ],
   "source": [
    "# Warning -- This code will return an error as id no: 12 is already exists\n",
    "x = My_Collection.insert_one({ \"_id\": 12, \"name\": \"Lola\", \"address\": \"Prospect Dr\"})"
   ]
  },
  {
   "cell_type": "markdown",
   "metadata": {
    "id": "3CKpbRGDB_cb"
   },
   "source": [
    "So, if we want to manage `_id`s in code, we need to be careful!"
   ]
  },
  {
   "cell_type": "markdown",
   "metadata": {
    "id": "eAyExvFAB_cc"
   },
   "source": [
    "This returns the first document in the collection:"
   ]
  },
  {
   "cell_type": "code",
   "execution_count": null,
   "metadata": {
    "id": "YzXmhIr4B_cc"
   },
   "outputs": [
    {
     "name": "stdout",
     "output_type": "stream",
     "text": [
      "{'_id': ObjectId('6671ee6ec02800010feb65de'), 'name': 'example', 'value': 'New World'}\n"
     ]
    }
   ],
   "source": [
    "x = My_Collection.find_one()\n",
    "print(x)"
   ]
  },
  {
   "cell_type": "markdown",
   "metadata": {
    "id": "GWSokljaB_ce"
   },
   "source": [
    "Do the same for the document containing \"name\" = \"Ashton\":"
   ]
  },
  {
   "cell_type": "code",
   "execution_count": null,
   "metadata": {
    "id": "cA5k8a_dB_cf"
   },
   "outputs": [
    {
     "name": "stdout",
     "output_type": "stream",
     "text": [
      "Found document: {'_id': ObjectId('6671ef7dc02800010feb65e1'), 'name': 'Ashton', 'address': 'Axle St'}\n"
     ]
    }
   ],
   "source": [
    "# Find the document containing \"name\" = \"Ashton\"\n",
    "result = My_Collection.find_one({\"name\": \"Ashton\"})\n",
    "\n",
    "# Print the found document\n",
    "print(\"Found document:\", result)"
   ]
  },
  {
   "cell_type": "markdown",
   "metadata": {
    "id": "DFCVFHu7B_ch"
   },
   "source": [
    "This returns (and prints) all documents in the collection:"
   ]
  },
  {
   "cell_type": "code",
   "execution_count": null,
   "metadata": {
    "id": "UXVB_CSMB_ch"
   },
   "outputs": [
    {
     "name": "stdout",
     "output_type": "stream",
     "text": [
      "{'_id': ObjectId('6671ee6ec02800010feb65de'), 'name': 'example', 'value': 'New World'}\n",
      "{'_id': ObjectId('6671eebbc02800010feb65df'), 'name': 'Paul', 'address': 'Mansfield AVE'}\n",
      "{'_id': ObjectId('6671ef4cc02800010feb65e0'), 'name': 'Rafa', 'address': 'Holder Drive'}\n",
      "{'_id': ObjectId('6671ef7dc02800010feb65e1'), 'name': 'Ashton', 'address': 'Axle St'}\n",
      "{'_id': ObjectId('6671ef7dc02800010feb65e2'), 'name': 'Benjamin', 'address': 'Green Dr'}\n",
      "{'_id': ObjectId('6671ef7dc02800010feb65e3'), 'name': 'Sally', 'address': 'Holly Blvd'}\n",
      "{'_id': ObjectId('6671ef7dc02800010feb65e4'), 'name': 'Helen', 'address': 'Castor Prom'}\n",
      "{'_id': ObjectId('6671ef7dc02800010feb65e5'), 'name': 'Craig', 'address': 'Parsons Way'}\n",
      "{'_id': ObjectId('6671ef7dc02800010feb65e6'), 'name': 'Betty', 'address': 'Watters St'}\n",
      "{'_id': ObjectId('6671ef7dc02800010feb65e7'), 'name': 'Aparna', 'address': 'Yonder Dr'}\n",
      "{'_id': ObjectId('6671ef7dc02800010feb65e8'), 'name': 'Kent', 'address': 'Garrison St'}\n",
      "{'_id': ObjectId('6671ef7dc02800010feb65e9'), 'name': 'Violet', 'address': 'Station St'}\n",
      "{'_id': ObjectId('6671ef7dc02800010feb65ea'), 'name': 'Svetlana', 'address': 'Wayman Ave'}\n",
      "{'_id': ObjectId('6671efcec02800010feb65eb'), 'name': 'Bob', 'address': 'Axle St'}\n",
      "{'_id': ObjectId('6671efcec02800010feb65ec'), 'name': 'Bib2', 'address': 'Green Dr'}\n",
      "{'_id': ObjectId('6671efcec02800010feb65ed'), 'name': 'Bib3', 'address': 'Holly Blvd'}\n",
      "{'_id': ObjectId('6671efcec02800010feb65ee'), 'name': 'Bob4', 'address': 'Castor Prom'}\n",
      "{'_id': ObjectId('6671efcec02800010feb65ef'), 'name': 'Bob5', 'address': 'Parsons Way'}\n",
      "{'_id': ObjectId('6671efcec02800010feb65f0'), 'name': 'Bib6', 'address': 'Watters St'}\n",
      "{'_id': ObjectId('6671efcec02800010feb65f1'), 'name': 'Bob7', 'address': 'Yonder Dr'}\n",
      "{'_id': ObjectId('6671efcec02800010feb65f2'), 'name': 'bob8', 'address': 'Garrison St'}\n",
      "{'_id': ObjectId('6671efcec02800010feb65f3'), 'name': 'Bob9', 'address': 'Station St'}\n",
      "{'_id': ObjectId('6671efcec02800010feb65f4'), 'name': 'Bob20', 'address': 'Wayman Ave'}\n",
      "{'_id': 1, 'name': 'Paul', 'address': 'Mansfield Ave'}\n",
      "{'_id': 2, 'name': 'Rafa', 'address': 'Holder Drive'}\n",
      "{'_id': 3, 'name': 'Ashton', 'address': 'Axle St'}\n",
      "{'_id': 4, 'name': 'Benjamin', 'address': 'Green Dr'}\n",
      "{'_id': 5, 'name': 'Sally', 'address': 'Holly Blvd'}\n",
      "{'_id': 6, 'name': 'Helen', 'address': 'Castor Prom'}\n",
      "{'_id': 7, 'name': 'Craig', 'address': 'Parsons Way'}\n",
      "{'_id': 8, 'name': 'Betty', 'address': 'Watters St'}\n",
      "{'_id': 9, 'name': 'Aparna', 'address': 'Yonder Dr'}\n",
      "{'_id': 10, 'name': 'Kent', 'address': 'Garrison St'}\n",
      "{'_id': 11, 'name': 'Violet', 'address': 'Station St'}\n",
      "{'_id': 12, 'name': 'Svetlana', 'address': 'Wayman Ave'}\n"
     ]
    }
   ],
   "source": [
    "for x in My_Collection.find():\n",
    "    print(x)"
   ]
  },
  {
   "cell_type": "markdown",
   "metadata": {
    "id": "6dQsHIF6B_cj"
   },
   "source": [
    "This returns only the name and address fields:"
   ]
  },
  {
   "cell_type": "code",
   "execution_count": null,
   "metadata": {
    "id": "OKY_Buz0B_ck"
   },
   "outputs": [
    {
     "name": "stdout",
     "output_type": "stream",
     "text": [
      "{'name': 'example'}\n",
      "{'name': 'Paul', 'address': 'Mansfield AVE'}\n",
      "{'name': 'Rafa', 'address': 'Holder Drive'}\n",
      "{'name': 'Ashton', 'address': 'Axle St'}\n",
      "{'name': 'Benjamin', 'address': 'Green Dr'}\n",
      "{'name': 'Sally', 'address': 'Holly Blvd'}\n",
      "{'name': 'Helen', 'address': 'Castor Prom'}\n",
      "{'name': 'Craig', 'address': 'Parsons Way'}\n",
      "{'name': 'Betty', 'address': 'Watters St'}\n",
      "{'name': 'Aparna', 'address': 'Yonder Dr'}\n",
      "{'name': 'Kent', 'address': 'Garrison St'}\n",
      "{'name': 'Violet', 'address': 'Station St'}\n",
      "{'name': 'Svetlana', 'address': 'Wayman Ave'}\n",
      "{'name': 'Bob', 'address': 'Axle St'}\n",
      "{'name': 'Bib2', 'address': 'Green Dr'}\n",
      "{'name': 'Bib3', 'address': 'Holly Blvd'}\n",
      "{'name': 'Bob4', 'address': 'Castor Prom'}\n",
      "{'name': 'Bob5', 'address': 'Parsons Way'}\n",
      "{'name': 'Bib6', 'address': 'Watters St'}\n",
      "{'name': 'Bob7', 'address': 'Yonder Dr'}\n",
      "{'name': 'bob8', 'address': 'Garrison St'}\n",
      "{'name': 'Bob9', 'address': 'Station St'}\n",
      "{'name': 'Bob20', 'address': 'Wayman Ave'}\n",
      "{'name': 'Paul', 'address': 'Mansfield Ave'}\n",
      "{'name': 'Rafa', 'address': 'Holder Drive'}\n",
      "{'name': 'Ashton', 'address': 'Axle St'}\n",
      "{'name': 'Benjamin', 'address': 'Green Dr'}\n",
      "{'name': 'Sally', 'address': 'Holly Blvd'}\n",
      "{'name': 'Helen', 'address': 'Castor Prom'}\n",
      "{'name': 'Craig', 'address': 'Parsons Way'}\n",
      "{'name': 'Betty', 'address': 'Watters St'}\n",
      "{'name': 'Aparna', 'address': 'Yonder Dr'}\n",
      "{'name': 'Kent', 'address': 'Garrison St'}\n",
      "{'name': 'Violet', 'address': 'Station St'}\n",
      "{'name': 'Svetlana', 'address': 'Wayman Ave'}\n"
     ]
    }
   ],
   "source": [
    "for x in My_Collection.find({},{ \"_id\": 0, \"name\": 1, \"address\": 1 }):\n",
    "    print(x)"
   ]
  },
  {
   "cell_type": "markdown",
   "metadata": {
    "id": "9jAQ7LAdB_cm"
   },
   "source": [
    "Print only the `_id` and name fields:\n"
   ]
  },
  {
   "cell_type": "code",
   "execution_count": null,
   "metadata": {
    "id": "FP14yQUQB_cn"
   },
   "outputs": [
    {
     "name": "stdout",
     "output_type": "stream",
     "text": [
      "{'_id': ObjectId('6671ee6ec02800010feb65de'), 'name': 'example'}\n",
      "{'_id': ObjectId('6671eebbc02800010feb65df'), 'name': 'Paul'}\n",
      "{'_id': ObjectId('6671ef4cc02800010feb65e0'), 'name': 'Rafa'}\n",
      "{'_id': ObjectId('6671ef7dc02800010feb65e1'), 'name': 'Ashton'}\n",
      "{'_id': ObjectId('6671ef7dc02800010feb65e2'), 'name': 'Benjamin'}\n",
      "{'_id': ObjectId('6671ef7dc02800010feb65e3'), 'name': 'Sally'}\n",
      "{'_id': ObjectId('6671ef7dc02800010feb65e4'), 'name': 'Helen'}\n",
      "{'_id': ObjectId('6671ef7dc02800010feb65e5'), 'name': 'Craig'}\n",
      "{'_id': ObjectId('6671ef7dc02800010feb65e6'), 'name': 'Betty'}\n",
      "{'_id': ObjectId('6671ef7dc02800010feb65e7'), 'name': 'Aparna'}\n",
      "{'_id': ObjectId('6671ef7dc02800010feb65e8'), 'name': 'Kent'}\n",
      "{'_id': ObjectId('6671ef7dc02800010feb65e9'), 'name': 'Violet'}\n",
      "{'_id': ObjectId('6671ef7dc02800010feb65ea'), 'name': 'Svetlana'}\n",
      "{'_id': ObjectId('6671efcec02800010feb65eb'), 'name': 'Bob'}\n",
      "{'_id': ObjectId('6671efcec02800010feb65ec'), 'name': 'Bib2'}\n",
      "{'_id': ObjectId('6671efcec02800010feb65ed'), 'name': 'Bib3'}\n",
      "{'_id': ObjectId('6671efcec02800010feb65ee'), 'name': 'Bob4'}\n",
      "{'_id': ObjectId('6671efcec02800010feb65ef'), 'name': 'Bob5'}\n",
      "{'_id': ObjectId('6671efcec02800010feb65f0'), 'name': 'Bib6'}\n",
      "{'_id': ObjectId('6671efcec02800010feb65f1'), 'name': 'Bob7'}\n",
      "{'_id': ObjectId('6671efcec02800010feb65f2'), 'name': 'bob8'}\n",
      "{'_id': ObjectId('6671efcec02800010feb65f3'), 'name': 'Bob9'}\n",
      "{'_id': ObjectId('6671efcec02800010feb65f4'), 'name': 'Bob20'}\n",
      "{'_id': 1, 'name': 'Paul'}\n",
      "{'_id': 2, 'name': 'Rafa'}\n",
      "{'_id': 3, 'name': 'Ashton'}\n",
      "{'_id': 4, 'name': 'Benjamin'}\n",
      "{'_id': 5, 'name': 'Sally'}\n",
      "{'_id': 6, 'name': 'Helen'}\n",
      "{'_id': 7, 'name': 'Craig'}\n",
      "{'_id': 8, 'name': 'Betty'}\n",
      "{'_id': 9, 'name': 'Aparna'}\n",
      "{'_id': 10, 'name': 'Kent'}\n",
      "{'_id': 11, 'name': 'Violet'}\n",
      "{'_id': 12, 'name': 'Svetlana'}\n"
     ]
    }
   ],
   "source": [
    "for x in My_Collection.find({}, { \"_id\": 1, \"name\": 1 }):\n",
    "    print(x)"
   ]
  },
  {
   "cell_type": "markdown",
   "metadata": {
    "id": "esHLntbmB_cp"
   },
   "source": [
    "So, we must explicitly use `\"_id\": 0` to exclude it, but for other fields we simply omit them from the dict argument."
   ]
  },
  {
   "cell_type": "markdown",
   "metadata": {
    "id": "hSOdFGEpB_cq"
   },
   "source": [
    "To include field conditionals in a query, we use `$` operators. This finds addresses starting with \"S\" or greater:"
   ]
  },
  {
   "cell_type": "code",
   "execution_count": null,
   "metadata": {
    "id": "KaHOWDwkB_cq"
   },
   "outputs": [
    {
     "name": "stdout",
     "output_type": "stream",
     "text": [
      "{'_id': ObjectId('6671ef7dc02800010feb65e6'), 'name': 'Betty', 'address': 'Watters St'}\n",
      "{'_id': ObjectId('6671ef7dc02800010feb65e7'), 'name': 'Aparna', 'address': 'Yonder Dr'}\n",
      "{'_id': ObjectId('6671ef7dc02800010feb65e9'), 'name': 'Violet', 'address': 'Station St'}\n",
      "{'_id': ObjectId('6671ef7dc02800010feb65ea'), 'name': 'Svetlana', 'address': 'Wayman Ave'}\n",
      "{'_id': ObjectId('6671efcec02800010feb65f0'), 'name': 'Bib6', 'address': 'Watters St'}\n",
      "{'_id': ObjectId('6671efcec02800010feb65f1'), 'name': 'Bob7', 'address': 'Yonder Dr'}\n",
      "{'_id': ObjectId('6671efcec02800010feb65f3'), 'name': 'Bob9', 'address': 'Station St'}\n",
      "{'_id': ObjectId('6671efcec02800010feb65f4'), 'name': 'Bob20', 'address': 'Wayman Ave'}\n",
      "{'_id': 8, 'name': 'Betty', 'address': 'Watters St'}\n",
      "{'_id': 9, 'name': 'Aparna', 'address': 'Yonder Dr'}\n",
      "{'_id': 11, 'name': 'Violet', 'address': 'Station St'}\n",
      "{'_id': 12, 'name': 'Svetlana', 'address': 'Wayman Ave'}\n"
     ]
    }
   ],
   "source": [
    "myquery = { \"address\": { \"$gt\": \"S\" } }\n",
    "mydoc = My_Collection.find(myquery)\n",
    "for x in mydoc:\n",
    "    print(x)"
   ]
  },
  {
   "cell_type": "markdown",
   "metadata": {
    "id": "i3fUXWpiB_cs"
   },
   "source": [
    "Here are some more comparison operators:\n",
    "\n",
    "            $gt, $gte, $eq, $in, $nin, $exists, $and, $or, $not\n",
    "            \n",
    "Experiment with these until you understand how to use them."
   ]
  },
  {
   "cell_type": "code",
   "execution_count": null,
   "metadata": {
    "id": "ensDpd9VB_ct"
   },
   "outputs": [
    {
     "name": "stdout",
     "output_type": "stream",
     "text": [
      "Names greater than 'M':\n",
      "{'_id': ObjectId('6671ee6ec02800010feb65de'), 'name': 'example', 'value': 'New World'}\n",
      "{'_id': ObjectId('6671eebbc02800010feb65df'), 'name': 'Paul', 'address': 'Mansfield AVE'}\n",
      "{'_id': ObjectId('6671ef4cc02800010feb65e0'), 'name': 'Rafa', 'address': 'Holder Drive'}\n",
      "{'_id': ObjectId('6671ef7dc02800010feb65e3'), 'name': 'Sally', 'address': 'Holly Blvd'}\n",
      "{'_id': ObjectId('6671ef7dc02800010feb65e9'), 'name': 'Violet', 'address': 'Station St'}\n",
      "{'_id': ObjectId('6671ef7dc02800010feb65ea'), 'name': 'Svetlana', 'address': 'Wayman Ave'}\n",
      "{'_id': ObjectId('6671efcec02800010feb65f2'), 'name': 'bob8', 'address': 'Garrison St'}\n",
      "{'_id': 1, 'name': 'Paul', 'address': 'Mansfield Ave'}\n",
      "{'_id': 2, 'name': 'Rafa', 'address': 'Holder Drive'}\n",
      "{'_id': 5, 'name': 'Sally', 'address': 'Holly Blvd'}\n",
      "{'_id': 11, 'name': 'Violet', 'address': 'Station St'}\n",
      "{'_id': 12, 'name': 'Svetlana', 'address': 'Wayman Ave'}\n",
      "\n",
      "Names greater than or equal to 'Paul':\n",
      "{'_id': ObjectId('6671ee6ec02800010feb65de'), 'name': 'example', 'value': 'New World'}\n",
      "{'_id': ObjectId('6671eebbc02800010feb65df'), 'name': 'Paul', 'address': 'Mansfield AVE'}\n",
      "{'_id': ObjectId('6671ef4cc02800010feb65e0'), 'name': 'Rafa', 'address': 'Holder Drive'}\n",
      "{'_id': ObjectId('6671ef7dc02800010feb65e3'), 'name': 'Sally', 'address': 'Holly Blvd'}\n",
      "{'_id': ObjectId('6671ef7dc02800010feb65e9'), 'name': 'Violet', 'address': 'Station St'}\n",
      "{'_id': ObjectId('6671ef7dc02800010feb65ea'), 'name': 'Svetlana', 'address': 'Wayman Ave'}\n",
      "{'_id': ObjectId('6671efcec02800010feb65f2'), 'name': 'bob8', 'address': 'Garrison St'}\n",
      "{'_id': 1, 'name': 'Paul', 'address': 'Mansfield Ave'}\n",
      "{'_id': 2, 'name': 'Rafa', 'address': 'Holder Drive'}\n",
      "{'_id': 5, 'name': 'Sally', 'address': 'Holly Blvd'}\n",
      "{'_id': 11, 'name': 'Violet', 'address': 'Station St'}\n",
      "{'_id': 12, 'name': 'Svetlana', 'address': 'Wayman Ave'}\n",
      "\n",
      "Names equal to 'Rafa':\n",
      "{'_id': ObjectId('6671ef4cc02800010feb65e0'), 'name': 'Rafa', 'address': 'Holder Drive'}\n",
      "{'_id': 2, 'name': 'Rafa', 'address': 'Holder Drive'}\n",
      "\n",
      "Names in ['Rafa', 'Ashton', 'Violet']:\n",
      "{'_id': ObjectId('6671ef4cc02800010feb65e0'), 'name': 'Rafa', 'address': 'Holder Drive'}\n",
      "{'_id': ObjectId('6671ef7dc02800010feb65e1'), 'name': 'Ashton', 'address': 'Axle St'}\n",
      "{'_id': ObjectId('6671ef7dc02800010feb65e9'), 'name': 'Violet', 'address': 'Station St'}\n",
      "{'_id': 2, 'name': 'Rafa', 'address': 'Holder Drive'}\n",
      "{'_id': 3, 'name': 'Ashton', 'address': 'Axle St'}\n",
      "{'_id': 11, 'name': 'Violet', 'address': 'Station St'}\n",
      "\n",
      "Names not in ['Rafa', 'Ashton', 'Violet']:\n",
      "{'_id': ObjectId('6671ee6ec02800010feb65de'), 'name': 'example', 'value': 'New World'}\n",
      "{'_id': ObjectId('6671eebbc02800010feb65df'), 'name': 'Paul', 'address': 'Mansfield AVE'}\n",
      "{'_id': ObjectId('6671ef7dc02800010feb65e2'), 'name': 'Benjamin', 'address': 'Green Dr'}\n",
      "{'_id': ObjectId('6671ef7dc02800010feb65e3'), 'name': 'Sally', 'address': 'Holly Blvd'}\n",
      "{'_id': ObjectId('6671ef7dc02800010feb65e4'), 'name': 'Helen', 'address': 'Castor Prom'}\n",
      "{'_id': ObjectId('6671ef7dc02800010feb65e5'), 'name': 'Craig', 'address': 'Parsons Way'}\n",
      "{'_id': ObjectId('6671ef7dc02800010feb65e6'), 'name': 'Betty', 'address': 'Watters St'}\n",
      "{'_id': ObjectId('6671ef7dc02800010feb65e7'), 'name': 'Aparna', 'address': 'Yonder Dr'}\n",
      "{'_id': ObjectId('6671ef7dc02800010feb65e8'), 'name': 'Kent', 'address': 'Garrison St'}\n",
      "{'_id': ObjectId('6671ef7dc02800010feb65ea'), 'name': 'Svetlana', 'address': 'Wayman Ave'}\n",
      "{'_id': ObjectId('6671efcec02800010feb65eb'), 'name': 'Bob', 'address': 'Axle St'}\n",
      "{'_id': ObjectId('6671efcec02800010feb65ec'), 'name': 'Bib2', 'address': 'Green Dr'}\n",
      "{'_id': ObjectId('6671efcec02800010feb65ed'), 'name': 'Bib3', 'address': 'Holly Blvd'}\n",
      "{'_id': ObjectId('6671efcec02800010feb65ee'), 'name': 'Bob4', 'address': 'Castor Prom'}\n",
      "{'_id': ObjectId('6671efcec02800010feb65ef'), 'name': 'Bob5', 'address': 'Parsons Way'}\n",
      "{'_id': ObjectId('6671efcec02800010feb65f0'), 'name': 'Bib6', 'address': 'Watters St'}\n",
      "{'_id': ObjectId('6671efcec02800010feb65f1'), 'name': 'Bob7', 'address': 'Yonder Dr'}\n",
      "{'_id': ObjectId('6671efcec02800010feb65f2'), 'name': 'bob8', 'address': 'Garrison St'}\n",
      "{'_id': ObjectId('6671efcec02800010feb65f3'), 'name': 'Bob9', 'address': 'Station St'}\n",
      "{'_id': ObjectId('6671efcec02800010feb65f4'), 'name': 'Bob20', 'address': 'Wayman Ave'}\n",
      "{'_id': 1, 'name': 'Paul', 'address': 'Mansfield Ave'}\n",
      "{'_id': 4, 'name': 'Benjamin', 'address': 'Green Dr'}\n",
      "{'_id': 5, 'name': 'Sally', 'address': 'Holly Blvd'}\n",
      "{'_id': 6, 'name': 'Helen', 'address': 'Castor Prom'}\n",
      "{'_id': 7, 'name': 'Craig', 'address': 'Parsons Way'}\n",
      "{'_id': 8, 'name': 'Betty', 'address': 'Watters St'}\n",
      "{'_id': 9, 'name': 'Aparna', 'address': 'Yonder Dr'}\n",
      "{'_id': 10, 'name': 'Kent', 'address': 'Garrison St'}\n",
      "{'_id': 12, 'name': 'Svetlana', 'address': 'Wayman Ave'}\n",
      "\n",
      "Documents where 'address' field exists:\n",
      "{'_id': ObjectId('6671eebbc02800010feb65df'), 'name': 'Paul', 'address': 'Mansfield AVE'}\n",
      "{'_id': ObjectId('6671ef4cc02800010feb65e0'), 'name': 'Rafa', 'address': 'Holder Drive'}\n",
      "{'_id': ObjectId('6671ef7dc02800010feb65e1'), 'name': 'Ashton', 'address': 'Axle St'}\n",
      "{'_id': ObjectId('6671ef7dc02800010feb65e2'), 'name': 'Benjamin', 'address': 'Green Dr'}\n",
      "{'_id': ObjectId('6671ef7dc02800010feb65e3'), 'name': 'Sally', 'address': 'Holly Blvd'}\n",
      "{'_id': ObjectId('6671ef7dc02800010feb65e4'), 'name': 'Helen', 'address': 'Castor Prom'}\n",
      "{'_id': ObjectId('6671ef7dc02800010feb65e5'), 'name': 'Craig', 'address': 'Parsons Way'}\n",
      "{'_id': ObjectId('6671ef7dc02800010feb65e6'), 'name': 'Betty', 'address': 'Watters St'}\n",
      "{'_id': ObjectId('6671ef7dc02800010feb65e7'), 'name': 'Aparna', 'address': 'Yonder Dr'}\n",
      "{'_id': ObjectId('6671ef7dc02800010feb65e8'), 'name': 'Kent', 'address': 'Garrison St'}\n",
      "{'_id': ObjectId('6671ef7dc02800010feb65e9'), 'name': 'Violet', 'address': 'Station St'}\n",
      "{'_id': ObjectId('6671ef7dc02800010feb65ea'), 'name': 'Svetlana', 'address': 'Wayman Ave'}\n",
      "{'_id': ObjectId('6671efcec02800010feb65eb'), 'name': 'Bob', 'address': 'Axle St'}\n",
      "{'_id': ObjectId('6671efcec02800010feb65ec'), 'name': 'Bib2', 'address': 'Green Dr'}\n",
      "{'_id': ObjectId('6671efcec02800010feb65ed'), 'name': 'Bib3', 'address': 'Holly Blvd'}\n",
      "{'_id': ObjectId('6671efcec02800010feb65ee'), 'name': 'Bob4', 'address': 'Castor Prom'}\n",
      "{'_id': ObjectId('6671efcec02800010feb65ef'), 'name': 'Bob5', 'address': 'Parsons Way'}\n",
      "{'_id': ObjectId('6671efcec02800010feb65f0'), 'name': 'Bib6', 'address': 'Watters St'}\n",
      "{'_id': ObjectId('6671efcec02800010feb65f1'), 'name': 'Bob7', 'address': 'Yonder Dr'}\n",
      "{'_id': ObjectId('6671efcec02800010feb65f2'), 'name': 'bob8', 'address': 'Garrison St'}\n",
      "{'_id': ObjectId('6671efcec02800010feb65f3'), 'name': 'Bob9', 'address': 'Station St'}\n",
      "{'_id': ObjectId('6671efcec02800010feb65f4'), 'name': 'Bob20', 'address': 'Wayman Ave'}\n",
      "{'_id': 1, 'name': 'Paul', 'address': 'Mansfield Ave'}\n",
      "{'_id': 2, 'name': 'Rafa', 'address': 'Holder Drive'}\n",
      "{'_id': 3, 'name': 'Ashton', 'address': 'Axle St'}\n",
      "{'_id': 4, 'name': 'Benjamin', 'address': 'Green Dr'}\n",
      "{'_id': 5, 'name': 'Sally', 'address': 'Holly Blvd'}\n",
      "{'_id': 6, 'name': 'Helen', 'address': 'Castor Prom'}\n",
      "{'_id': 7, 'name': 'Craig', 'address': 'Parsons Way'}\n",
      "{'_id': 8, 'name': 'Betty', 'address': 'Watters St'}\n",
      "{'_id': 9, 'name': 'Aparna', 'address': 'Yonder Dr'}\n",
      "{'_id': 10, 'name': 'Kent', 'address': 'Garrison St'}\n",
      "{'_id': 11, 'name': 'Violet', 'address': 'Station St'}\n",
      "{'_id': 12, 'name': 'Svetlana', 'address': 'Wayman Ave'}\n",
      "\n",
      "Documents where name is 'Paul' and address is 'Mansfield AVE':\n",
      "{'_id': ObjectId('6671eebbc02800010feb65df'), 'name': 'Paul', 'address': 'Mansfield AVE'}\n",
      "\n",
      "Documents where name is 'Paul' or address is 'Holder Drive':\n",
      "{'_id': ObjectId('6671eebbc02800010feb65df'), 'name': 'Paul', 'address': 'Mansfield AVE'}\n",
      "{'_id': ObjectId('6671ef4cc02800010feb65e0'), 'name': 'Rafa', 'address': 'Holder Drive'}\n",
      "{'_id': 1, 'name': 'Paul', 'address': 'Mansfield Ave'}\n",
      "{'_id': 2, 'name': 'Rafa', 'address': 'Holder Drive'}\n",
      "\n",
      "Documents where name is not 'Rafa':\n",
      "{'_id': ObjectId('6671ee6ec02800010feb65de'), 'name': 'example', 'value': 'New World'}\n",
      "{'_id': ObjectId('6671eebbc02800010feb65df'), 'name': 'Paul', 'address': 'Mansfield AVE'}\n",
      "{'_id': ObjectId('6671ef7dc02800010feb65e1'), 'name': 'Ashton', 'address': 'Axle St'}\n",
      "{'_id': ObjectId('6671ef7dc02800010feb65e2'), 'name': 'Benjamin', 'address': 'Green Dr'}\n",
      "{'_id': ObjectId('6671ef7dc02800010feb65e3'), 'name': 'Sally', 'address': 'Holly Blvd'}\n",
      "{'_id': ObjectId('6671ef7dc02800010feb65e4'), 'name': 'Helen', 'address': 'Castor Prom'}\n",
      "{'_id': ObjectId('6671ef7dc02800010feb65e5'), 'name': 'Craig', 'address': 'Parsons Way'}\n",
      "{'_id': ObjectId('6671ef7dc02800010feb65e6'), 'name': 'Betty', 'address': 'Watters St'}\n",
      "{'_id': ObjectId('6671ef7dc02800010feb65e7'), 'name': 'Aparna', 'address': 'Yonder Dr'}\n",
      "{'_id': ObjectId('6671ef7dc02800010feb65e8'), 'name': 'Kent', 'address': 'Garrison St'}\n",
      "{'_id': ObjectId('6671ef7dc02800010feb65e9'), 'name': 'Violet', 'address': 'Station St'}\n",
      "{'_id': ObjectId('6671ef7dc02800010feb65ea'), 'name': 'Svetlana', 'address': 'Wayman Ave'}\n",
      "{'_id': ObjectId('6671efcec02800010feb65eb'), 'name': 'Bob', 'address': 'Axle St'}\n",
      "{'_id': ObjectId('6671efcec02800010feb65ec'), 'name': 'Bib2', 'address': 'Green Dr'}\n",
      "{'_id': ObjectId('6671efcec02800010feb65ed'), 'name': 'Bib3', 'address': 'Holly Blvd'}\n",
      "{'_id': ObjectId('6671efcec02800010feb65ee'), 'name': 'Bob4', 'address': 'Castor Prom'}\n",
      "{'_id': ObjectId('6671efcec02800010feb65ef'), 'name': 'Bob5', 'address': 'Parsons Way'}\n",
      "{'_id': ObjectId('6671efcec02800010feb65f0'), 'name': 'Bib6', 'address': 'Watters St'}\n",
      "{'_id': ObjectId('6671efcec02800010feb65f1'), 'name': 'Bob7', 'address': 'Yonder Dr'}\n",
      "{'_id': ObjectId('6671efcec02800010feb65f2'), 'name': 'bob8', 'address': 'Garrison St'}\n",
      "{'_id': ObjectId('6671efcec02800010feb65f3'), 'name': 'Bob9', 'address': 'Station St'}\n",
      "{'_id': ObjectId('6671efcec02800010feb65f4'), 'name': 'Bob20', 'address': 'Wayman Ave'}\n",
      "{'_id': 1, 'name': 'Paul', 'address': 'Mansfield Ave'}\n",
      "{'_id': 3, 'name': 'Ashton', 'address': 'Axle St'}\n",
      "{'_id': 4, 'name': 'Benjamin', 'address': 'Green Dr'}\n",
      "{'_id': 5, 'name': 'Sally', 'address': 'Holly Blvd'}\n",
      "{'_id': 6, 'name': 'Helen', 'address': 'Castor Prom'}\n",
      "{'_id': 7, 'name': 'Craig', 'address': 'Parsons Way'}\n",
      "{'_id': 8, 'name': 'Betty', 'address': 'Watters St'}\n",
      "{'_id': 9, 'name': 'Aparna', 'address': 'Yonder Dr'}\n",
      "{'_id': 10, 'name': 'Kent', 'address': 'Garrison St'}\n",
      "{'_id': 11, 'name': 'Violet', 'address': 'Station St'}\n",
      "{'_id': 12, 'name': 'Svetlana', 'address': 'Wayman Ave'}\n"
     ]
    }
   ],
   "source": [
    "# $gt (greater than)\n",
    "result = My_Collection.find({\"name\": {\"$gt\": \"M\"}})\n",
    "print(\"Names greater than 'M':\")\n",
    "for doc in result:\n",
    "    print(doc)\n",
    "\n",
    "# $gte (greater than or equal to)\n",
    "result = My_Collection.find({\"name\": {\"$gte\": \"Paul\"}})\n",
    "print(\"\\nNames greater than or equal to 'Paul':\")\n",
    "for doc in result:\n",
    "    print(doc)\n",
    "\n",
    "# $eq (equal to)\n",
    "result = My_Collection.find({\"name\": {\"$eq\": \"Rafa\"}})\n",
    "print(\"\\nNames equal to 'Rafa':\")\n",
    "for doc in result:\n",
    "    print(doc)\n",
    "\n",
    "# $in (in a list of values)\n",
    "result = My_Collection.find({\"name\": {\"$in\": [\"Rafa\", \"Ashton\", \"Violet\"]}})\n",
    "print(\"\\nNames in ['Rafa', 'Ashton', 'Violet']:\")\n",
    "for doc in result:\n",
    "    print(doc)\n",
    "\n",
    "# $nin (not in a list of values)\n",
    "result = My_Collection.find({\"name\": {\"$nin\": [\"Rafa\", \"Ashton\", \"Violet\"]}})\n",
    "print(\"\\nNames not in ['Rafa', 'Ashton', 'Violet']:\")\n",
    "for doc in result:\n",
    "    print(doc)\n",
    "\n",
    "# $exists (field exists)\n",
    "result = My_Collection.find({\"address\": {\"$exists\": True}})\n",
    "print(\"\\nDocuments where 'address' field exists:\")\n",
    "for doc in result:\n",
    "    print(doc)\n",
    "\n",
    "# $and (and condition)\n",
    "result = My_Collection.find({\"$and\": [{\"name\": \"Paul\"}, {\"address\": \"Mansfield AVE\"}]})\n",
    "print(\"\\nDocuments where name is 'Paul' and address is 'Mansfield AVE':\")\n",
    "for doc in result:\n",
    "    print(doc)\n",
    "\n",
    "# $or (or condition)\n",
    "result = My_Collection.find({\"$or\": [{\"name\": \"Paul\"}, {\"address\": \"Holder Drive\"}]})\n",
    "print(\"\\nDocuments where name is 'Paul' or address is 'Holder Drive':\")\n",
    "for doc in result:\n",
    "    print(doc)\n",
    "\n",
    "# $not (not condition)\n",
    "result = My_Collection.find({\"name\": {\"$not\": {\"$eq\": \"Rafa\"}}})\n",
    "print(\"\\nDocuments where name is not 'Rafa':\")\n",
    "for doc in result:\n",
    "    print(doc)"
   ]
  },
  {
   "cell_type": "markdown",
   "metadata": {
    "id": "IxvWRoS3B_cu"
   },
   "source": [
    "Now find all docs with an address that begins with \"W\":  \n",
    "(HINT: The value for \"address\" in the argument should be the regex-based dict { \"$regex\": \"^W\" }.)"
   ]
  },
  {
   "cell_type": "code",
   "execution_count": null,
   "metadata": {
    "id": "i5zMYTsdB_cu"
   },
   "outputs": [
    {
     "name": "stdout",
     "output_type": "stream",
     "text": [
      "Documents with an address beginning with 'W':\n",
      "{'_id': ObjectId('6671ef7dc02800010feb65e6'), 'name': 'Betty', 'address': 'Watters St'}\n",
      "{'_id': ObjectId('6671ef7dc02800010feb65ea'), 'name': 'Svetlana', 'address': 'Wayman Ave'}\n",
      "{'_id': ObjectId('6671efcec02800010feb65f0'), 'name': 'Bib6', 'address': 'Watters St'}\n",
      "{'_id': ObjectId('6671efcec02800010feb65f4'), 'name': 'Bob20', 'address': 'Wayman Ave'}\n",
      "{'_id': 8, 'name': 'Betty', 'address': 'Watters St'}\n",
      "{'_id': 12, 'name': 'Svetlana', 'address': 'Wayman Ave'}\n"
     ]
    }
   ],
   "source": [
    "#ANSWER:\n",
    "result = My_Collection.find({\"address\": {\"$regex\": \"^W\"}})\n",
    "\n",
    "# Print the found documents\n",
    "print(\"Documents with an address beginning with 'W':\")\n",
    "for doc in result:\n",
    "    print(doc)"
   ]
  },
  {
   "cell_type": "markdown",
   "metadata": {
    "id": "B1W9jlEnB_cw"
   },
   "source": [
    "Sorting can be applied by invoking the sort() method after the find() method. Sort the collection by the name field:"
   ]
  },
  {
   "cell_type": "code",
   "execution_count": null,
   "metadata": {
    "id": "fzxxFYrtB_cw"
   },
   "outputs": [
    {
     "name": "stdout",
     "output_type": "stream",
     "text": [
      "Documents sorted by the 'name' field:\n",
      "{'_id': ObjectId('6671ef7dc02800010feb65e7'), 'name': 'Aparna', 'address': 'Yonder Dr'}\n",
      "{'_id': 9, 'name': 'Aparna', 'address': 'Yonder Dr'}\n",
      "{'_id': ObjectId('6671ef7dc02800010feb65e1'), 'name': 'Ashton', 'address': 'Axle St'}\n",
      "{'_id': 3, 'name': 'Ashton', 'address': 'Axle St'}\n",
      "{'_id': ObjectId('6671ef7dc02800010feb65e2'), 'name': 'Benjamin', 'address': 'Green Dr'}\n",
      "{'_id': 4, 'name': 'Benjamin', 'address': 'Green Dr'}\n",
      "{'_id': ObjectId('6671ef7dc02800010feb65e6'), 'name': 'Betty', 'address': 'Watters St'}\n",
      "{'_id': 8, 'name': 'Betty', 'address': 'Watters St'}\n",
      "{'_id': ObjectId('6671efcec02800010feb65ec'), 'name': 'Bib2', 'address': 'Green Dr'}\n",
      "{'_id': ObjectId('6671efcec02800010feb65ed'), 'name': 'Bib3', 'address': 'Holly Blvd'}\n",
      "{'_id': ObjectId('6671efcec02800010feb65f0'), 'name': 'Bib6', 'address': 'Watters St'}\n",
      "{'_id': ObjectId('6671efcec02800010feb65eb'), 'name': 'Bob', 'address': 'Axle St'}\n",
      "{'_id': ObjectId('6671efcec02800010feb65f4'), 'name': 'Bob20', 'address': 'Wayman Ave'}\n",
      "{'_id': ObjectId('6671efcec02800010feb65ee'), 'name': 'Bob4', 'address': 'Castor Prom'}\n",
      "{'_id': ObjectId('6671efcec02800010feb65ef'), 'name': 'Bob5', 'address': 'Parsons Way'}\n",
      "{'_id': ObjectId('6671efcec02800010feb65f1'), 'name': 'Bob7', 'address': 'Yonder Dr'}\n",
      "{'_id': ObjectId('6671efcec02800010feb65f3'), 'name': 'Bob9', 'address': 'Station St'}\n",
      "{'_id': ObjectId('6671ef7dc02800010feb65e5'), 'name': 'Craig', 'address': 'Parsons Way'}\n",
      "{'_id': 7, 'name': 'Craig', 'address': 'Parsons Way'}\n",
      "{'_id': ObjectId('6671ef7dc02800010feb65e4'), 'name': 'Helen', 'address': 'Castor Prom'}\n",
      "{'_id': 6, 'name': 'Helen', 'address': 'Castor Prom'}\n",
      "{'_id': ObjectId('6671ef7dc02800010feb65e8'), 'name': 'Kent', 'address': 'Garrison St'}\n",
      "{'_id': 10, 'name': 'Kent', 'address': 'Garrison St'}\n",
      "{'_id': ObjectId('6671eebbc02800010feb65df'), 'name': 'Paul', 'address': 'Mansfield AVE'}\n",
      "{'_id': 1, 'name': 'Paul', 'address': 'Mansfield Ave'}\n",
      "{'_id': ObjectId('6671ef4cc02800010feb65e0'), 'name': 'Rafa', 'address': 'Holder Drive'}\n",
      "{'_id': 2, 'name': 'Rafa', 'address': 'Holder Drive'}\n",
      "{'_id': ObjectId('6671ef7dc02800010feb65e3'), 'name': 'Sally', 'address': 'Holly Blvd'}\n",
      "{'_id': 5, 'name': 'Sally', 'address': 'Holly Blvd'}\n",
      "{'_id': ObjectId('6671ef7dc02800010feb65ea'), 'name': 'Svetlana', 'address': 'Wayman Ave'}\n",
      "{'_id': 12, 'name': 'Svetlana', 'address': 'Wayman Ave'}\n",
      "{'_id': ObjectId('6671ef7dc02800010feb65e9'), 'name': 'Violet', 'address': 'Station St'}\n",
      "{'_id': 11, 'name': 'Violet', 'address': 'Station St'}\n",
      "{'_id': ObjectId('6671efcec02800010feb65f2'), 'name': 'bob8', 'address': 'Garrison St'}\n",
      "{'_id': ObjectId('6671ee6ec02800010feb65de'), 'name': 'example', 'value': 'New World'}\n"
     ]
    }
   ],
   "source": [
    "#ANSWER:\n",
    "# Find all documents and sort by the \"name\" field\n",
    "result = My_Collection.find().sort(\"name\", 1)  # 1 for ascending order, -1 for descending order\n",
    "\n",
    "# Print the found documents\n",
    "print(\"Documents sorted by the 'name' field:\")\n",
    "for doc in result:\n",
    "    print(doc)"
   ]
  },
  {
   "cell_type": "markdown",
   "metadata": {
    "id": "esbldZv0B_cx"
   },
   "source": [
    "Now sort in reverse order (HINT: The sort() method takes an optional second parameter.)"
   ]
  },
  {
   "cell_type": "code",
   "execution_count": null,
   "metadata": {},
   "outputs": [
    {
     "name": "stdout",
     "output_type": "stream",
     "text": [
      "Documents sorted by the 'name' field in descending order:\n",
      "{'_id': ObjectId('6671ee6ec02800010feb65de'), 'name': 'example', 'value': 'New World'}\n",
      "{'_id': ObjectId('6671efcec02800010feb65f2'), 'name': 'bob8', 'address': 'Garrison St'}\n",
      "{'_id': ObjectId('6671ef7dc02800010feb65e9'), 'name': 'Violet', 'address': 'Station St'}\n",
      "{'_id': 11, 'name': 'Violet', 'address': 'Station St'}\n",
      "{'_id': ObjectId('6671ef7dc02800010feb65ea'), 'name': 'Svetlana', 'address': 'Wayman Ave'}\n",
      "{'_id': 12, 'name': 'Svetlana', 'address': 'Wayman Ave'}\n",
      "{'_id': ObjectId('6671ef7dc02800010feb65e3'), 'name': 'Sally', 'address': 'Holly Blvd'}\n",
      "{'_id': 5, 'name': 'Sally', 'address': 'Holly Blvd'}\n",
      "{'_id': ObjectId('6671ef4cc02800010feb65e0'), 'name': 'Rafa', 'address': 'Holder Drive'}\n",
      "{'_id': 2, 'name': 'Rafa', 'address': 'Holder Drive'}\n",
      "{'_id': ObjectId('6671eebbc02800010feb65df'), 'name': 'Paul', 'address': 'Mansfield AVE'}\n",
      "{'_id': 1, 'name': 'Paul', 'address': 'Mansfield Ave'}\n",
      "{'_id': ObjectId('6671ef7dc02800010feb65e8'), 'name': 'Kent', 'address': 'Garrison St'}\n",
      "{'_id': 10, 'name': 'Kent', 'address': 'Garrison St'}\n",
      "{'_id': ObjectId('6671ef7dc02800010feb65e4'), 'name': 'Helen', 'address': 'Castor Prom'}\n",
      "{'_id': 6, 'name': 'Helen', 'address': 'Castor Prom'}\n",
      "{'_id': ObjectId('6671ef7dc02800010feb65e5'), 'name': 'Craig', 'address': 'Parsons Way'}\n",
      "{'_id': 7, 'name': 'Craig', 'address': 'Parsons Way'}\n",
      "{'_id': ObjectId('6671efcec02800010feb65f3'), 'name': 'Bob9', 'address': 'Station St'}\n",
      "{'_id': ObjectId('6671efcec02800010feb65f1'), 'name': 'Bob7', 'address': 'Yonder Dr'}\n",
      "{'_id': ObjectId('6671efcec02800010feb65ef'), 'name': 'Bob5', 'address': 'Parsons Way'}\n",
      "{'_id': ObjectId('6671efcec02800010feb65ee'), 'name': 'Bob4', 'address': 'Castor Prom'}\n",
      "{'_id': ObjectId('6671efcec02800010feb65f4'), 'name': 'Bob20', 'address': 'Wayman Ave'}\n",
      "{'_id': ObjectId('6671efcec02800010feb65eb'), 'name': 'Bob', 'address': 'Axle St'}\n",
      "{'_id': ObjectId('6671efcec02800010feb65f0'), 'name': 'Bib6', 'address': 'Watters St'}\n",
      "{'_id': ObjectId('6671efcec02800010feb65ed'), 'name': 'Bib3', 'address': 'Holly Blvd'}\n",
      "{'_id': ObjectId('6671efcec02800010feb65ec'), 'name': 'Bib2', 'address': 'Green Dr'}\n",
      "{'_id': ObjectId('6671ef7dc02800010feb65e6'), 'name': 'Betty', 'address': 'Watters St'}\n",
      "{'_id': 8, 'name': 'Betty', 'address': 'Watters St'}\n",
      "{'_id': ObjectId('6671ef7dc02800010feb65e2'), 'name': 'Benjamin', 'address': 'Green Dr'}\n",
      "{'_id': 4, 'name': 'Benjamin', 'address': 'Green Dr'}\n",
      "{'_id': ObjectId('6671ef7dc02800010feb65e1'), 'name': 'Ashton', 'address': 'Axle St'}\n",
      "{'_id': 3, 'name': 'Ashton', 'address': 'Axle St'}\n",
      "{'_id': ObjectId('6671ef7dc02800010feb65e7'), 'name': 'Aparna', 'address': 'Yonder Dr'}\n",
      "{'_id': 9, 'name': 'Aparna', 'address': 'Yonder Dr'}\n"
     ]
    }
   ],
   "source": [
    "#ANSWER\n",
    "# Find all documents and sort by the \"name\" field in descending order\n",
    "result = My_Collection.find().sort(\"name\", -1)  # -1 for descending order\n",
    "\n",
    "# Print the found documents\n",
    "print(\"Documents sorted by the 'name' field in descending order:\")\n",
    "for doc in result:\n",
    "    print(doc)"
   ]
  },
  {
   "cell_type": "markdown",
   "metadata": {
    "id": "s0oVQyDGB_cy"
   },
   "source": [
    "A single record can be deleted by specifying some criterion:"
   ]
  },
  {
   "cell_type": "code",
   "execution_count": null,
   "metadata": {
    "id": "8yxmQAs6B_cy"
   },
   "outputs": [
    {
     "data": {
      "text/plain": [
       "DeleteResult({'n': 1, 'ok': 1.0}, acknowledged=True)"
      ]
     },
     "execution_count": 45,
     "metadata": {},
     "output_type": "execute_result"
    }
   ],
   "source": [
    "My_Collection.delete_one({ \"address\": \"Castor Prom\" })"
   ]
  },
  {
   "cell_type": "markdown",
   "metadata": {
    "id": "QqH7lF-uB_c0"
   },
   "source": [
    "Now delete all docs with the 2-digit `Id` values:"
   ]
  },
  {
   "cell_type": "code",
   "execution_count": null,
   "metadata": {
    "id": "0pyYX1YUB_c0"
   },
   "outputs": [
    {
     "name": "stdout",
     "output_type": "stream",
     "text": [
      "Number of documents deleted: 0\n"
     ]
    },
    {
     "name": "stderr",
     "output_type": "stream",
     "text": [
      "<>:3: SyntaxWarning: invalid escape sequence '\\d'\n",
      "<>:3: SyntaxWarning: invalid escape sequence '\\d'\n",
      "/var/folders/jk/x0srxcqj6mx0vmvp43lqpm2c6bm373/T/ipykernel_1063/512158268.py:3: SyntaxWarning: invalid escape sequence '\\d'\n",
      "  delete_result = My_Collection.delete_many({\"_id\": {\"$regex\": \"^\\d{2}$\"}})\n"
     ]
    }
   ],
   "source": [
    "#ANSWER:\n",
    "# Delete all documents with 2-digit _id values\n",
    "delete_result = My_Collection.delete_many({\"_id\": {\"$regex\": \"^\\d{2}$\"}})\n",
    "\n",
    "# Print the number of documents deleted\n",
    "print(\"Number of documents deleted:\", delete_result.deleted_count)"
   ]
  },
  {
   "cell_type": "markdown",
   "metadata": {
    "id": "CsjxNZY6B_c1"
   },
   "source": [
    "This would delete all docs:\n",
    "`x = mycol.delete_many({})`\n",
    "\n",
    "This would remove the collection:\n",
    "`mycol.drop()`\n",
    "\n",
    "This would drop the database:\n",
    "`client.drop_database('test')`"
   ]
  },
  {
   "cell_type": "markdown",
   "metadata": {
    "id": "2Dnc3vItB_c2"
   },
   "source": [
    "Change the first instance of \"address\" == \"Garrison St\" to \"Somers Ave\" using update_one().  \n",
    "(HINT: The 1st parameter of update_one() is the criterion (query); the 2nd is dict specifying the field to change and its new value.)"
   ]
  },
  {
   "cell_type": "code",
   "execution_count": 19,
   "metadata": {
    "id": "lhd3SoGjB_c2"
   },
   "outputs": [
    {
     "name": "stdout",
     "output_type": "stream",
     "text": [
      "Document updated successfully.\n"
     ]
    }
   ],
   "source": [
    "#ANSWER:\n",
    "query = {\"address\": \"Garrison St\"}\n",
    "\n",
    "# Define the update operation to change the address to \"Somers Ave\"\n",
    "update = {\"$set\": {\"address\": \"Somers Ave\"}}\n",
    "\n",
    "# Perform the update operation\n",
    "result = My_Collection.update_one(query, update)\n",
    "\n",
    "# Output the result of the update operation\n",
    "if result.modified_count > 0:\n",
    "    print(\"Document updated successfully.\")\n",
    "else:\n",
    "    print(\"No document matched the query.\")"
   ]
  },
  {
   "cell_type": "markdown",
   "metadata": {
    "id": "56frrtHFB_c3"
   },
   "source": [
    "The limit() method can be applied after the find() method to limit the number of docs returned. Show the first 5 docs:"
   ]
  },
  {
   "cell_type": "code",
   "execution_count": 20,
   "metadata": {
    "id": "iKI5zKUbB_c4",
    "scrolled": true
   },
   "outputs": [
    {
     "name": "stdout",
     "output_type": "stream",
     "text": [
      "{'_id': ObjectId('6671ee6ec02800010feb65de'), 'name': 'example', 'value': 'New World'}\n",
      "{'_id': ObjectId('6671eebbc02800010feb65df'), 'name': 'Paul', 'address': 'Mansfield AVE'}\n",
      "{'_id': ObjectId('6671ef4cc02800010feb65e0'), 'name': 'Rafa', 'address': 'Holder Drive'}\n",
      "{'_id': ObjectId('6671ef7dc02800010feb65e1'), 'name': 'Ashton', 'address': 'Axle St'}\n",
      "{'_id': ObjectId('6671ef7dc02800010feb65e2'), 'name': 'Benjamin', 'address': 'Green Dr'}\n"
     ]
    }
   ],
   "source": [
    "#ANSWER:\n",
    "query = {}\n",
    "\n",
    "# Execute the query with a limit of 5 documents\n",
    "documents = My_Collection.find(query).limit(5)\n",
    "\n",
    "# Print the first 5 documents\n",
    "for doc in documents:\n",
    "    print(doc)"
   ]
  },
  {
   "cell_type": "markdown",
   "metadata": {
    "id": "eT0nESi-B_c5"
   },
   "source": [
    "## PyMongo for Data Science"
   ]
  },
  {
   "cell_type": "markdown",
   "metadata": {
    "id": "S_MH0UFpB_c5"
   },
   "source": [
    "MongoDB has many more features of interest to developers, but the main focus of a data scientist will be wrangling and munging the data. It may or may not be desirable to do all the data munging in Pandas; for a large, distributed database, it may be imperative to perform aggregation in MongoDB."
   ]
  },
  {
   "cell_type": "code",
   "execution_count": 21,
   "metadata": {
    "id": "TM1rIsJuB_c5"
   },
   "outputs": [],
   "source": [
    "# Ref:  https://rsandstroem.github.io/MongoDBDemo.html\n",
    "\n",
    "import pandas as pd\n",
    "import numpy as np"
   ]
  },
  {
   "cell_type": "markdown",
   "metadata": {
    "id": "L6kZkdjRB_c7"
   },
   "source": [
    "The following code in the next few cells, will create a database named \"command_test\" which populates its data from a local JSON file called dummyData.json (you need to download this from the Google Classroom DATA folder) using the mongoimport program.\n",
    "\n",
    "**Step 1**. Using the command prompt (Windows) or Terminal (Mac) change to the directory containing the file mongoimport.exe (example: cd \"C:\\Program Files\\MongoDB\\Tools\\100\\bin\")"
   ]
  },
  {
   "cell_type": "markdown",
   "metadata": {},
   "source": [
    "**Step 2**. After you have changed your directory, copy/paste the line below in the command prompt/ terminal after modifying \"dummydata.json\" to include the path on your system where the file is located:\n",
    "<br>\n",
    "\n",
    "      mongoimport --db command_test --collection people --drop --file \"dummyData.json\"       \n",
    "\n",
    "- db: stands for database name that you use --> in our case, it is \"command_test\"\n",
    "- collection: stands for the collection you created within the database --> in our case it is \"people\"\n",
    "- file: stands for the file path to your \"dummyData.json\" file, which you downloaded from our Google Classroom DATA folder - you may need to modify \"dummyData.json\" "
   ]
  },
  {
   "cell_type": "markdown",
   "metadata": {},
   "source": [
    "**Step 3**. Copy/paste the line below into the command prompt or terminal:\n",
    "<br>\n",
    "\n",
    "    mongoimport -d command_test -c people --file \"dummyData.json\"\n"
   ]
  },
  {
   "cell_type": "code",
   "execution_count": 22,
   "metadata": {
    "id": "6WP7YGNXKbpZ"
   },
   "outputs": [],
   "source": [
    "client = MongoClient('localhost', 27017) #connects to your local mongoDB"
   ]
  },
  {
   "cell_type": "markdown",
   "metadata": {},
   "source": [
    "If the above is successful, running the next cell should produce three records corresponding to the youngest people."
   ]
  },
  {
   "cell_type": "code",
   "execution_count": 23,
   "metadata": {
    "id": "fXByi5IfB_c_"
   },
   "outputs": [
    {
     "name": "stdout",
     "output_type": "stream",
     "text": [
      "{'_id': ObjectId('66725b9b526f98efd7c28d39'), 'Name': 'Sawyer, Neve M.', 'Age': 18, 'Country': 'Serbia', 'Location': '-34.37446, 174.0838'}\n",
      "{'_id': ObjectId('66725b9b526f98efd7c28cd8'), 'Name': 'Townsend, Cadman I.', 'Age': 19, 'Country': 'Somalia', 'Location': '-87.69188, -144.16138'}\n",
      "{'_id': ObjectId('66725b9b526f98efd7c28d29'), 'Name': 'Shepard, Peter R.', 'Age': 20, 'Country': 'Saint Helena, Ascension and Tristan da Cunha', 'Location': '28.90219, 66.86083'}\n"
     ]
    }
   ],
   "source": [
    "db = client.command_test\n",
    "collection = db.people\n",
    "cursor = collection.find().sort('Age',pymongo.ASCENDING).limit(3)\n",
    "for doc in cursor:\n",
    "    print (doc)"
   ]
  },
  {
   "cell_type": "markdown",
   "metadata": {
    "id": "vPnfkW2tB_dA"
   },
   "source": [
    "Here is a small demonstration of the MongoDB aggregation framework. We want to create a table of the number of persons in each country and their average age. To do it we group by country. We extract the results from MongoDB aggregation into a pandas dataframe, and use the country as index."
   ]
  },
  {
   "cell_type": "code",
   "execution_count": 24,
   "metadata": {
    "id": "s2q_B0m5B_dA"
   },
   "outputs": [
    {
     "data": {
      "text/html": [
       "<div>\n",
       "<style scoped>\n",
       "    .dataframe tbody tr th:only-of-type {\n",
       "        vertical-align: middle;\n",
       "    }\n",
       "\n",
       "    .dataframe tbody tr th {\n",
       "        vertical-align: top;\n",
       "    }\n",
       "\n",
       "    .dataframe thead th {\n",
       "        text-align: right;\n",
       "    }\n",
       "</style>\n",
       "<table border=\"1\" class=\"dataframe\">\n",
       "  <thead>\n",
       "    <tr style=\"text-align: right;\">\n",
       "      <th></th>\n",
       "      <th>AvgAge</th>\n",
       "      <th>Count</th>\n",
       "    </tr>\n",
       "    <tr>\n",
       "      <th>_id</th>\n",
       "      <th></th>\n",
       "      <th></th>\n",
       "    </tr>\n",
       "  </thead>\n",
       "  <tbody>\n",
       "    <tr>\n",
       "      <th>China</th>\n",
       "      <td>46.250000</td>\n",
       "      <td>4</td>\n",
       "    </tr>\n",
       "    <tr>\n",
       "      <th>Antarctica</th>\n",
       "      <td>46.333333</td>\n",
       "      <td>3</td>\n",
       "    </tr>\n",
       "    <tr>\n",
       "      <th>Guernsey</th>\n",
       "      <td>48.333333</td>\n",
       "      <td>3</td>\n",
       "    </tr>\n",
       "    <tr>\n",
       "      <th>Puerto Rico</th>\n",
       "      <td>26.500000</td>\n",
       "      <td>2</td>\n",
       "    </tr>\n",
       "    <tr>\n",
       "      <th>Heard Island and Mcdonald Islands</th>\n",
       "      <td>29.000000</td>\n",
       "      <td>2</td>\n",
       "    </tr>\n",
       "  </tbody>\n",
       "</table>\n",
       "</div>"
      ],
      "text/plain": [
       "                                      AvgAge  Count\n",
       "_id                                                \n",
       "China                              46.250000      4\n",
       "Antarctica                         46.333333      3\n",
       "Guernsey                           48.333333      3\n",
       "Puerto Rico                        26.500000      2\n",
       "Heard Island and Mcdonald Islands  29.000000      2"
      ]
     },
     "execution_count": 24,
     "metadata": {},
     "output_type": "execute_result"
    }
   ],
   "source": [
    "pipeline = [\n",
    "        {\"$group\": {\"_id\":\"$Country\",\n",
    "             \"AvgAge\":{\"$avg\":\"$Age\"},\n",
    "             \"Count\":{\"$sum\":1},\n",
    "        }},\n",
    "        {\"$sort\":{\"Count\":-1,\"AvgAge\":1}}\n",
    "]\n",
    "aggResult = collection.aggregate(pipeline) # returns a cursor\n",
    "\n",
    "df1 = pd.DataFrame(list(aggResult)) # use list to turn the cursor to an array of documents\n",
    "df1 = df1.set_index(\"_id\")\n",
    "df1.head()"
   ]
  },
  {
   "cell_type": "markdown",
   "metadata": {
    "id": "H9vaINaBB_dB"
   },
   "source": [
    "For simple cases one can either use a cursor through find(\"search term\") or use the \"$match\" operator in the aggregation framework, like this:"
   ]
  },
  {
   "cell_type": "code",
   "execution_count": 25,
   "metadata": {
    "id": "3oymmJpUB_dB"
   },
   "outputs": [
    {
     "data": {
      "text/html": [
       "<div>\n",
       "<style scoped>\n",
       "    .dataframe tbody tr th:only-of-type {\n",
       "        vertical-align: middle;\n",
       "    }\n",
       "\n",
       "    .dataframe tbody tr th {\n",
       "        vertical-align: top;\n",
       "    }\n",
       "\n",
       "    .dataframe thead th {\n",
       "        text-align: right;\n",
       "    }\n",
       "</style>\n",
       "<table border=\"1\" class=\"dataframe\">\n",
       "  <thead>\n",
       "    <tr style=\"text-align: right;\">\n",
       "      <th></th>\n",
       "      <th>_id</th>\n",
       "      <th>Name</th>\n",
       "      <th>Age</th>\n",
       "      <th>Country</th>\n",
       "      <th>Location</th>\n",
       "    </tr>\n",
       "  </thead>\n",
       "  <tbody>\n",
       "    <tr>\n",
       "      <th>0</th>\n",
       "      <td>66725b9b526f98efd7c28d08</td>\n",
       "      <td>Holman, Hasad O.</td>\n",
       "      <td>32</td>\n",
       "      <td>China</td>\n",
       "      <td>39.9127, 116.3833</td>\n",
       "    </tr>\n",
       "    <tr>\n",
       "      <th>1</th>\n",
       "      <td>66725b9b526f98efd7c28d1a</td>\n",
       "      <td>Byrd, Dante A.</td>\n",
       "      <td>43</td>\n",
       "      <td>China</td>\n",
       "      <td>31.2, 121.5</td>\n",
       "    </tr>\n",
       "    <tr>\n",
       "      <th>2</th>\n",
       "      <td>66725b9b526f98efd7c28d1e</td>\n",
       "      <td>Carney, Tamekah I.</td>\n",
       "      <td>57</td>\n",
       "      <td>China</td>\n",
       "      <td>45.75, 126.6333</td>\n",
       "    </tr>\n",
       "    <tr>\n",
       "      <th>3</th>\n",
       "      <td>66725b9b526f98efd7c28d2a</td>\n",
       "      <td>Mayer, Violet U.</td>\n",
       "      <td>53</td>\n",
       "      <td>China</td>\n",
       "      <td>40, 95</td>\n",
       "    </tr>\n",
       "  </tbody>\n",
       "</table>\n",
       "</div>"
      ],
      "text/plain": [
       "                        _id                Name  Age Country  \\\n",
       "0  66725b9b526f98efd7c28d08    Holman, Hasad O.   32   China   \n",
       "1  66725b9b526f98efd7c28d1a      Byrd, Dante A.   43   China   \n",
       "2  66725b9b526f98efd7c28d1e  Carney, Tamekah I.   57   China   \n",
       "3  66725b9b526f98efd7c28d2a    Mayer, Violet U.   53   China   \n",
       "\n",
       "            Location  \n",
       "0  39.9127, 116.3833  \n",
       "1        31.2, 121.5  \n",
       "2    45.75, 126.6333  \n",
       "3             40, 95  "
      ]
     },
     "execution_count": 25,
     "metadata": {},
     "output_type": "execute_result"
    }
   ],
   "source": [
    "pipeline = [\n",
    "        {\"$match\": {\"Country\":\"China\"}},\n",
    "]\n",
    "aggResult = collection.aggregate(pipeline)\n",
    "df2 = pd.DataFrame(list(aggResult))\n",
    "df2.head()"
   ]
  },
  {
   "cell_type": "markdown",
   "metadata": {
    "id": "terLdzDaB_dC"
   },
   "source": [
    "Now we can apply all the power of Python libraries to analyse and visualise the data. Here, we will use the folium package to plot markers for the locations of the people we just found in China (click on a marker to see their data):"
   ]
  },
  {
   "cell_type": "code",
   "execution_count": 26,
   "metadata": {
    "id": "v2lsaYlAB_dC"
   },
   "outputs": [],
   "source": [
    "# Un-comment and execute to install folium pkg (1st time only):\n",
    "# import sys\n",
    "# !{sys.executable} -m pip install folium"
   ]
  },
  {
   "cell_type": "code",
   "execution_count": 27,
   "metadata": {
    "id": "SuRbCt48B_dD"
   },
   "outputs": [
    {
     "name": "stdout",
     "output_type": "stream",
     "text": [
      "Folium version 0.16.0\n"
     ]
    },
    {
     "data": {
      "text/html": [
       "<div style=\"width:100%;\"><div style=\"position:relative;width:100%;height:0;padding-bottom:60%;\"><span style=\"color:#565656\">Make this Notebook Trusted to load map: File -> Trust Notebook</span><iframe srcdoc=\"&lt;!DOCTYPE html&gt;\n",
       "&lt;html&gt;\n",
       "&lt;head&gt;\n",
       "    \n",
       "    &lt;meta http-equiv=&quot;content-type&quot; content=&quot;text/html; charset=UTF-8&quot; /&gt;\n",
       "    \n",
       "        &lt;script&gt;\n",
       "            L_NO_TOUCH = false;\n",
       "            L_DISABLE_3D = false;\n",
       "        &lt;/script&gt;\n",
       "    \n",
       "    &lt;style&gt;html, body {width: 100%;height: 100%;margin: 0;padding: 0;}&lt;/style&gt;\n",
       "    &lt;style&gt;#map {position:absolute;top:0;bottom:0;right:0;left:0;}&lt;/style&gt;\n",
       "    &lt;script src=&quot;https://cdn.jsdelivr.net/npm/leaflet@1.9.3/dist/leaflet.js&quot;&gt;&lt;/script&gt;\n",
       "    &lt;script src=&quot;https://code.jquery.com/jquery-3.7.1.min.js&quot;&gt;&lt;/script&gt;\n",
       "    &lt;script src=&quot;https://cdn.jsdelivr.net/npm/bootstrap@5.2.2/dist/js/bootstrap.bundle.min.js&quot;&gt;&lt;/script&gt;\n",
       "    &lt;script src=&quot;https://cdnjs.cloudflare.com/ajax/libs/Leaflet.awesome-markers/2.0.2/leaflet.awesome-markers.js&quot;&gt;&lt;/script&gt;\n",
       "    &lt;link rel=&quot;stylesheet&quot; href=&quot;https://cdn.jsdelivr.net/npm/leaflet@1.9.3/dist/leaflet.css&quot;/&gt;\n",
       "    &lt;link rel=&quot;stylesheet&quot; href=&quot;https://cdn.jsdelivr.net/npm/bootstrap@5.2.2/dist/css/bootstrap.min.css&quot;/&gt;\n",
       "    &lt;link rel=&quot;stylesheet&quot; href=&quot;https://netdna.bootstrapcdn.com/bootstrap/3.0.0/css/bootstrap.min.css&quot;/&gt;\n",
       "    &lt;link rel=&quot;stylesheet&quot; href=&quot;https://cdn.jsdelivr.net/npm/@fortawesome/fontawesome-free@6.2.0/css/all.min.css&quot;/&gt;\n",
       "    &lt;link rel=&quot;stylesheet&quot; href=&quot;https://cdnjs.cloudflare.com/ajax/libs/Leaflet.awesome-markers/2.0.2/leaflet.awesome-markers.css&quot;/&gt;\n",
       "    &lt;link rel=&quot;stylesheet&quot; href=&quot;https://cdn.jsdelivr.net/gh/python-visualization/folium/folium/templates/leaflet.awesome.rotate.min.css&quot;/&gt;\n",
       "    \n",
       "            &lt;meta name=&quot;viewport&quot; content=&quot;width=device-width,\n",
       "                initial-scale=1.0, maximum-scale=1.0, user-scalable=no&quot; /&gt;\n",
       "            &lt;style&gt;\n",
       "                #map_131c92578f12937d05d729da8f4dc3eb {\n",
       "                    position: relative;\n",
       "                    width: 100.0%;\n",
       "                    height: 100.0%;\n",
       "                    left: 0.0%;\n",
       "                    top: 0.0%;\n",
       "                }\n",
       "                .leaflet-container { font-size: 1rem; }\n",
       "            &lt;/style&gt;\n",
       "        \n",
       "&lt;/head&gt;\n",
       "&lt;body&gt;\n",
       "    \n",
       "    \n",
       "            &lt;div class=&quot;folium-map&quot; id=&quot;map_131c92578f12937d05d729da8f4dc3eb&quot; &gt;&lt;/div&gt;\n",
       "        \n",
       "&lt;/body&gt;\n",
       "&lt;script&gt;\n",
       "    \n",
       "    \n",
       "            var map_131c92578f12937d05d729da8f4dc3eb = L.map(\n",
       "                &quot;map_131c92578f12937d05d729da8f4dc3eb&quot;,\n",
       "                {\n",
       "                    center: [35.0, 100.0],\n",
       "                    crs: L.CRS.EPSG3857,\n",
       "                    zoom: 4,\n",
       "                    zoomControl: true,\n",
       "                    preferCanvas: false,\n",
       "                }\n",
       "            );\n",
       "\n",
       "            \n",
       "\n",
       "        \n",
       "    \n",
       "            var tile_layer_68a8a8a57de35d9953f24e3b9079768d = L.tileLayer(\n",
       "                &quot;https://tile.openstreetmap.org/{z}/{x}/{y}.png&quot;,\n",
       "                {&quot;attribution&quot;: &quot;\\u0026copy; \\u003ca href=\\&quot;https://www.openstreetmap.org/copyright\\&quot;\\u003eOpenStreetMap\\u003c/a\\u003e contributors&quot;, &quot;detectRetina&quot;: false, &quot;maxNativeZoom&quot;: 19, &quot;maxZoom&quot;: 19, &quot;minZoom&quot;: 0, &quot;noWrap&quot;: false, &quot;opacity&quot;: 1, &quot;subdomains&quot;: &quot;abc&quot;, &quot;tms&quot;: false}\n",
       "            );\n",
       "        \n",
       "    \n",
       "            tile_layer_68a8a8a57de35d9953f24e3b9079768d.addTo(map_131c92578f12937d05d729da8f4dc3eb);\n",
       "        \n",
       "    \n",
       "            var marker_01b098caef8b077f9b3b57c435497fc9 = L.marker(\n",
       "                [39.9127, 116.3833],\n",
       "                {}\n",
       "            ).addTo(map_131c92578f12937d05d729da8f4dc3eb);\n",
       "        \n",
       "    \n",
       "        var popup_356b27b45ec35f94483aaa4610b1067e = L.popup({&quot;maxWidth&quot;: &quot;100%&quot;});\n",
       "\n",
       "        \n",
       "            \n",
       "                var html_e8f03802c2d64ff172444c38aad24243 = $(`&lt;div id=&quot;html_e8f03802c2d64ff172444c38aad24243&quot; style=&quot;width: 100.0%; height: 100.0%;&quot;&gt;Holman, Hasad O., age:32&lt;/div&gt;`)[0];\n",
       "                popup_356b27b45ec35f94483aaa4610b1067e.setContent(html_e8f03802c2d64ff172444c38aad24243);\n",
       "            \n",
       "        \n",
       "\n",
       "        marker_01b098caef8b077f9b3b57c435497fc9.bindPopup(popup_356b27b45ec35f94483aaa4610b1067e)\n",
       "        ;\n",
       "\n",
       "        \n",
       "    \n",
       "    \n",
       "            var marker_ba27ce6d2fdab59dbbac7dc74185b0d5 = L.marker(\n",
       "                [31.2, 121.5],\n",
       "                {}\n",
       "            ).addTo(map_131c92578f12937d05d729da8f4dc3eb);\n",
       "        \n",
       "    \n",
       "        var popup_3197ccc2be52e328e6c8968d164d69e8 = L.popup({&quot;maxWidth&quot;: &quot;100%&quot;});\n",
       "\n",
       "        \n",
       "            \n",
       "                var html_d36e189191f4b8c169d6bc8fa28e6c2b = $(`&lt;div id=&quot;html_d36e189191f4b8c169d6bc8fa28e6c2b&quot; style=&quot;width: 100.0%; height: 100.0%;&quot;&gt;Byrd, Dante A., age:43&lt;/div&gt;`)[0];\n",
       "                popup_3197ccc2be52e328e6c8968d164d69e8.setContent(html_d36e189191f4b8c169d6bc8fa28e6c2b);\n",
       "            \n",
       "        \n",
       "\n",
       "        marker_ba27ce6d2fdab59dbbac7dc74185b0d5.bindPopup(popup_3197ccc2be52e328e6c8968d164d69e8)\n",
       "        ;\n",
       "\n",
       "        \n",
       "    \n",
       "    \n",
       "            var marker_6a51333ce7a07128ce429e2c30e2a49b = L.marker(\n",
       "                [45.75, 126.6333],\n",
       "                {}\n",
       "            ).addTo(map_131c92578f12937d05d729da8f4dc3eb);\n",
       "        \n",
       "    \n",
       "        var popup_4dffbac243cf84bdcd61a88472b8734a = L.popup({&quot;maxWidth&quot;: &quot;100%&quot;});\n",
       "\n",
       "        \n",
       "            \n",
       "                var html_f2d5066cab212144541ae736e522d374 = $(`&lt;div id=&quot;html_f2d5066cab212144541ae736e522d374&quot; style=&quot;width: 100.0%; height: 100.0%;&quot;&gt;Carney, Tamekah I., age:57&lt;/div&gt;`)[0];\n",
       "                popup_4dffbac243cf84bdcd61a88472b8734a.setContent(html_f2d5066cab212144541ae736e522d374);\n",
       "            \n",
       "        \n",
       "\n",
       "        marker_6a51333ce7a07128ce429e2c30e2a49b.bindPopup(popup_4dffbac243cf84bdcd61a88472b8734a)\n",
       "        ;\n",
       "\n",
       "        \n",
       "    \n",
       "    \n",
       "            var marker_deb17c50e11ac48a7340000462e410a8 = L.marker(\n",
       "                [40.0, 95.0],\n",
       "                {}\n",
       "            ).addTo(map_131c92578f12937d05d729da8f4dc3eb);\n",
       "        \n",
       "    \n",
       "        var popup_bfde529a77d489400b92cf10bace0688 = L.popup({&quot;maxWidth&quot;: &quot;100%&quot;});\n",
       "\n",
       "        \n",
       "            \n",
       "                var html_a82ee23f9549116f2e324999d2ab9ebe = $(`&lt;div id=&quot;html_a82ee23f9549116f2e324999d2ab9ebe&quot; style=&quot;width: 100.0%; height: 100.0%;&quot;&gt;Mayer, Violet U., age:53&lt;/div&gt;`)[0];\n",
       "                popup_bfde529a77d489400b92cf10bace0688.setContent(html_a82ee23f9549116f2e324999d2ab9ebe);\n",
       "            \n",
       "        \n",
       "\n",
       "        marker_deb17c50e11ac48a7340000462e410a8.bindPopup(popup_bfde529a77d489400b92cf10bace0688)\n",
       "        ;\n",
       "\n",
       "        \n",
       "    \n",
       "&lt;/script&gt;\n",
       "&lt;/html&gt;\" style=\"position:absolute;width:100%;height:100%;left:0;top:0;border:none !important;\" allowfullscreen webkitallowfullscreen mozallowfullscreen></iframe></div></div>"
      ],
      "text/plain": [
       "<folium.folium.Map at 0x1382502c0>"
      ]
     },
     "execution_count": 27,
     "metadata": {},
     "output_type": "execute_result"
    }
   ],
   "source": [
    "import folium\n",
    "print ('Folium version ' + folium.__version__)\n",
    "\n",
    "world_map = folium.Map(location = [35, 100], zoom_start = 4)\n",
    "for i in range(len(df2)):\n",
    "    location = [float(loc) for loc in df2.Location[i].split(',')]\n",
    "    folium.Marker(location = location, popup = df2.Name[i] + ', age:' + str(df2.Age[i])).add_to(world_map)\n",
    "\n",
    "world_map"
   ]
  },
  {
   "cell_type": "code",
   "execution_count": 28,
   "metadata": {},
   "outputs": [
    {
     "name": "stdout",
     "output_type": "stream",
     "text": [
      "['Test', 'admin', 'command_test', 'config', 'local']\n",
      "['Test', 'admin', 'config', 'local']\n"
     ]
    }
   ],
   "source": [
    "#Finally drop the databases created in the lab:\n",
    "print(client.list_database_names())\n",
    "client.drop_database('test')\n",
    "client.drop_database('command_test')\n",
    "print(client.list_database_names())"
   ]
  },
  {
   "cell_type": "markdown",
   "metadata": {
    "id": "Sr0Uxfq8B_dD"
   },
   "source": [
    "## HOMEWORK:\n"
   ]
  },
  {
   "cell_type": "markdown",
   "metadata": {
    "id": "82_s5XvcB_dD"
   },
   "source": [
    "1. Read up on how to perform aggregation in mongoDB. Insert a duplicate record into the collection:\n",
    "        mydict = {\"name\": \"Benjamin\", \"address\": \"Green Dr\"}\n",
    "   Now write a command to find docs with a duplicate \"name\" field (using aggregation) and remove them.  \n",
    "   Print the collection."
   ]
  },
  {
   "cell_type": "code",
   "execution_count": 29,
   "metadata": {
    "id": "hnSSNTBuB_dD"
   },
   "outputs": [
    {
     "name": "stdout",
     "output_type": "stream",
     "text": [
      "{'_id': ObjectId('66725deefb1786dc7fd97f65'), 'name': 'Benjamin', 'address': 'Green Dr'}\n"
     ]
    }
   ],
   "source": [
    "# Establish a connection to the MongoDB server\n",
    "client = MongoClient('mongodb://localhost:27017/')\n",
    "\n",
    "# Select the database and collection\n",
    "db = client['shoppers']\n",
    "collection = db['My_Collection']\n",
    "\n",
    "# Insert a duplicate record\n",
    "mydict = {\"name\": \"Benjamin\", \"address\": \"Green Dr\"}\n",
    "collection.insert_one(mydict)\n",
    "\n",
    "# Aggregate to find duplicates based on the \"name\" field\n",
    "pipeline = [\n",
    "    {\"$group\": {\"_id\": \"$name\", \"count\": {\"$sum\": 1}, \"docs\": {\"$push\": \"$_id\"}}},\n",
    "    {\"$match\": {\"count\": {\"$gt\": 1}}}\n",
    "]\n",
    "\n",
    "duplicate_docs = list(collection.aggregate(pipeline))\n",
    "\n",
    "# Remove duplicates, keeping only one document for each \"name\"\n",
    "for doc in duplicate_docs:\n",
    "    # Keep the first document and remove the rest\n",
    "    ids_to_keep = doc[\"docs\"][1:]  # skip the first document\n",
    "    collection.delete_many({\"_id\": {\"$in\": ids_to_keep}})\n",
    "\n",
    "# Print the collection\n",
    "for doc in collection.find():\n",
    "    print(doc)\n"
   ]
  },
  {
   "cell_type": "markdown",
   "metadata": {
    "id": "1Ndwie7xB_dE"
   },
   "source": [
    "2. Read up on how to apply indexes in mongoDB. Create an index on the \"name\" and \"address\" fields in this collection.\n",
    "   Print the indexes for the collection."
   ]
  },
  {
   "cell_type": "code",
   "execution_count": 30,
   "metadata": {
    "id": "bFyHLpKyB_dE"
   },
   "outputs": [
    {
     "name": "stdout",
     "output_type": "stream",
     "text": [
      "Index name: _id_\n",
      "Index info: {'v': 2, 'key': [('_id', 1)]}\n",
      "\n",
      "Index name: name_1\n",
      "Index info: {'v': 2, 'key': [('name', 1)]}\n",
      "\n",
      "Index name: address_1\n",
      "Index info: {'v': 2, 'key': [('address', 1)]}\n",
      "\n"
     ]
    }
   ],
   "source": [
    "# Create an index on the \"name\" field\n",
    "collection.create_index(\"name\")\n",
    "\n",
    "# Create an index on the \"address\" field\n",
    "collection.create_index(\"address\")\n",
    "\n",
    "# Print the indexes for the collection\n",
    "indexes = collection.index_information()\n",
    "\n",
    "for index_name, index_info in indexes.items():\n",
    "    print(f\"Index name: {index_name}\")\n",
    "    print(f\"Index info: {index_info}\")\n",
    "    print()"
   ]
  },
  {
   "cell_type": "markdown",
   "metadata": {
    "id": "Hj8GdoOXC-Lu"
   },
   "source": [
    "\n",
    "\n",
    ">\n",
    ">\n",
    ">\n",
    "\n",
    "\n"
   ]
  },
  {
   "cell_type": "markdown",
   "metadata": {
    "id": "MlasiTKgDGdA"
   },
   "source": [
    "\n",
    "\n",
    "---\n",
    "\n",
    "\n",
    "\n",
    "---\n",
    "\n",
    "\n",
    "\n",
    "> > > > > > > > > © 2024 Institute of Data\n",
    "\n",
    "\n",
    "---\n",
    "\n",
    "\n",
    "\n",
    "---\n",
    "\n",
    "\n",
    "\n"
   ]
  }
 ],
 "metadata": {
  "colab": {
   "provenance": [
    {
     "file_id": "17D0zRG20oX_57CwR4eNwdLhO4Qhlk4Dx",
     "timestamp": 1553134552284
    }
   ]
  },
  "kernelspec": {
   "display_name": "Python 3 (ipykernel)",
   "language": "python",
   "name": "python3"
  },
  "language_info": {
   "codemirror_mode": {
    "name": "ipython",
    "version": 3
   },
   "file_extension": ".py",
   "mimetype": "text/x-python",
   "name": "python",
   "nbconvert_exporter": "python",
   "pygments_lexer": "ipython3",
   "version": "3.12.3"
  }
 },
 "nbformat": 4,
 "nbformat_minor": 4
}
